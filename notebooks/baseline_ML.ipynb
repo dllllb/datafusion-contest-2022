{
 "cells": [
  {
   "cell_type": "code",
   "execution_count": 1,
   "id": "836d1120",
   "metadata": {},
   "outputs": [
    {
     "name": "stderr",
     "output_type": "stream",
     "text": [
      "/tmp/ipykernel_206666/3777615979.py:1: DeprecationWarning: Importing display from IPython.core.display is deprecated since IPython 7.14, please import from IPython display\n",
      "  from IPython.core.display import display, HTML\n"
     ]
    },
    {
     "data": {
      "text/html": [
       "<style>.container { width:100% !important; }</style>"
      ],
      "text/plain": [
       "<IPython.core.display.HTML object>"
      ]
     },
     "metadata": {},
     "output_type": "display_data"
    }
   ],
   "source": [
    "from IPython.core.display import display, HTML\n",
    "display(HTML(\"<style>.container { width:100% !important; }</style>\"))"
   ]
  },
  {
   "cell_type": "code",
   "execution_count": 2,
   "id": "simplified-country",
   "metadata": {},
   "outputs": [
    {
     "name": "stdout",
     "output_type": "stream",
     "text": [
      "/home/nikita/ML/work_repo/vtb_competition/vtb_data_fusion_contest\n"
     ]
    }
   ],
   "source": [
    "%cd ../"
   ]
  },
  {
   "cell_type": "code",
   "execution_count": 3,
   "id": "restricted-annual",
   "metadata": {},
   "outputs": [],
   "source": [
    "from glob import glob\n",
    "\n",
    "import numpy as np\n",
    "import pandas as pd\n",
    "import torch\n",
    "\n",
    "import pytorch_lightning as pl\n",
    "\n",
    "from pyhocon import ConfigFactory"
   ]
  },
  {
   "cell_type": "code",
   "execution_count": 4,
   "id": "accepted-attendance",
   "metadata": {},
   "outputs": [
    {
     "data": {
      "text/plain": [
       "6"
      ]
     },
     "execution_count": 4,
     "metadata": {},
     "output_type": "execute_result"
    }
   ],
   "source": [
    "FOLD_ID = 1\n",
    "\n",
    "fold_id_test = FOLD_ID\n",
    "\n",
    "folds_count = len(glob('data/train_matching_*.csv'))\n",
    "folds_count"
   ]
  },
  {
   "cell_type": "code",
   "execution_count": 5,
   "id": "under-straight",
   "metadata": {},
   "outputs": [
    {
     "data": {
      "text/plain": [
       "2"
      ]
     },
     "execution_count": 5,
     "metadata": {},
     "output_type": "execute_result"
    }
   ],
   "source": [
    "# fold_id_valid = np.random.choice([i for i in range(folds_count) if i != fold_id_test], size=1)[0]\n",
    "fold_id_valid = (fold_id_test + 1) % folds_count\n",
    "fold_id_valid"
   ]
  },
  {
   "cell_type": "code",
   "execution_count": 6,
   "id": "confidential-proof",
   "metadata": {},
   "outputs": [
    {
     "data": {
      "text/plain": [
       "[11721, 2930, 2930]"
      ]
     },
     "execution_count": 6,
     "metadata": {},
     "output_type": "execute_result"
    }
   ],
   "source": [
    "df_matching_train = pd.concat([pd.read_csv(f'data/train_matching_{i}.csv')\n",
    "                              for i in range(folds_count) \n",
    "                              if i not in (fold_id_test, fold_id_valid)])\n",
    "df_matching_valid = pd.read_csv(f'data/train_matching_{fold_id_valid}.csv')\n",
    "df_matching_test = pd.read_csv(f'data/train_matching_{fold_id_test}.csv')\n",
    "\n",
    "[len(df) for df in [df_matching_train, df_matching_valid, df_matching_test]]"
   ]
  },
  {
   "cell_type": "code",
   "execution_count": null,
   "id": "smooth-experiment",
   "metadata": {},
   "outputs": [],
   "source": []
  },
  {
   "cell_type": "code",
   "execution_count": 7,
   "id": "5175ad5d",
   "metadata": {},
   "outputs": [],
   "source": [
    "def click_types(df):\n",
    "    df['cat_id'] = df['cat_id'].astype(str)\n",
    "    return df[['user_id', 'timestamp', 'cat_id']]\n",
    "\n",
    "def click_pivot(df):\n",
    "    clickstream_embed = df.pivot_table(index = 'user_id', \n",
    "                            values=['timestamp'],\n",
    "                            columns=['cat_id'],\n",
    "                            aggfunc=['count']).fillna(0)\n",
    "    clickstream_embed.columns = [f'click-{str(i[2])}' for i in clickstream_embed.columns]\n",
    "    clickstream_embed.loc['0'] = np.empty(len(clickstream_embed.columns))\n",
    "\n",
    "    dtype_clickstream = list()\n",
    "    for x in clickstream_embed.dtypes.tolist():\n",
    "        if x=='int64':\n",
    "            dtype_clickstream.append('int16')\n",
    "        elif(x=='float64'):\n",
    "            dtype_clickstream.append('float32')\n",
    "        else:\n",
    "            dtype_clickstream.append('object')\n",
    "\n",
    "    dtype_clickstream = dict(zip(clickstream_embed.columns.tolist(), dtype_clickstream))\n",
    "    clickstream_embed = clickstream_embed.astype(dtype_clickstream)\n",
    "    clickstream_embed.reset_index(drop=False, inplace=True)\n",
    "    return clickstream_embed"
   ]
  },
  {
   "cell_type": "code",
   "execution_count": 8,
   "id": "e3dc0d3b",
   "metadata": {},
   "outputs": [
    {
     "name": "stdout",
     "output_type": "stream",
     "text": [
      "CPU times: user 1min 43s, sys: 16.3 s, total: 1min 59s\n",
      "Wall time: 2min 7s\n"
     ]
    },
    {
     "name": "stderr",
     "output_type": "stream",
     "text": [
      "/tmp/ipykernel_206666/2608904884.py:24: PerformanceWarning: DataFrame is highly fragmented.  This is usually the result of calling `frame.insert` many times, which has poor performance.  Consider joining all columns at once using pd.concat(axis=1) instead. To get a de-fragmented frame, use `newframe = frame.copy()`\n",
      "  clickstream_embed.reset_index(drop=False, inplace=True)\n"
     ]
    }
   ],
   "source": [
    "%%time\n",
    "\n",
    "df_click = pd.read_csv(f'data/clickstream.csv')\n",
    "df_click = click_types(df_click)\n",
    "df_click = click_pivot(df_click)"
   ]
  },
  {
   "cell_type": "code",
   "execution_count": 9,
   "id": "8adb4a8f",
   "metadata": {},
   "outputs": [
    {
     "name": "stdout",
     "output_type": "stream",
     "text": [
      "(9782, 403) (2446, 403) (2446, 403)\n"
     ]
    }
   ],
   "source": [
    "df_click_train = df_click[lambda x: x['user_id'].isin(df_matching_train['rtk'].values)]\n",
    "df_click_valid = df_click[lambda x: x['user_id'].isin(df_matching_valid['rtk'].values)]\n",
    "df_click_test = df_click[lambda x: x['user_id'].isin(df_matching_test['rtk'].values)]\n",
    "\n",
    "print(df_click_train.shape, df_click_valid.shape, df_click_test.shape)"
   ]
  },
  {
   "cell_type": "code",
   "execution_count": null,
   "id": "f2815fbc",
   "metadata": {},
   "outputs": [],
   "source": []
  },
  {
   "cell_type": "code",
   "execution_count": null,
   "id": "ac890524",
   "metadata": {},
   "outputs": [],
   "source": []
  },
  {
   "cell_type": "code",
   "execution_count": 10,
   "id": "20bc6e71",
   "metadata": {},
   "outputs": [],
   "source": [
    "def trx_types(df):\n",
    "    df['mcc_code'] = df['mcc_code'].astype(str)\n",
    "    df['currency_rk'] = df['currency_rk'].astype(str)\n",
    "    df['event_time'] = pd.to_datetime(df['transaction_dttm']).astype(int) / 1e9\n",
    "    return df[['user_id', 'event_time', 'mcc_code', 'currency_rk', 'transaction_amt']]\n",
    "\n",
    "def trx_pivot(df):\n",
    "    bankclient_embed = df.pivot_table(index = 'user_id', \n",
    "                        values=['transaction_amt'],\n",
    "                        columns=['mcc_code'],\n",
    "                        aggfunc=['sum','mean', 'count']).fillna(0)\n",
    "    bankclient_embed.columns = [f'{str(i[0])}-{str(i[2])}' for i in bankclient_embed.columns]\n",
    "    \n",
    "    dtype_bankclient = list()\n",
    "    for x in bankclient_embed.dtypes.tolist():\n",
    "        if x=='int64':\n",
    "            dtype_bankclient.append('int16')\n",
    "        elif(x=='float64'):\n",
    "            dtype_bankclient.append('float32')\n",
    "        else:\n",
    "            dtype_bankclient.append('object')\n",
    "    \n",
    "    dtype_bankclient = dict(zip(bankclient_embed.columns.tolist(), dtype_bankclient))\n",
    "    bankclient_embed = bankclient_embed.astype(dtype_bankclient)\n",
    "    bankclient_embed.reset_index(drop=False, inplace=True)\n",
    "    return bankclient_embed"
   ]
  },
  {
   "cell_type": "code",
   "execution_count": 11,
   "id": "6ef414e2",
   "metadata": {
    "scrolled": true
   },
   "outputs": [
    {
     "name": "stderr",
     "output_type": "stream",
     "text": [
      "/tmp/ipykernel_206666/3274736351.py:25: PerformanceWarning: DataFrame is highly fragmented.  This is usually the result of calling `frame.insert` many times, which has poor performance.  Consider joining all columns at once using pd.concat(axis=1) instead. To get a de-fragmented frame, use `newframe = frame.copy()`\n",
      "  bankclient_embed.reset_index(drop=False, inplace=True)\n"
     ]
    },
    {
     "name": "stdout",
     "output_type": "stream",
     "text": [
      "(11721, 1159) (2930, 1159) (2930, 1159)\n",
      "CPU times: user 28.4 s, sys: 3.68 s, total: 32.1 s\n",
      "Wall time: 33.4 s\n"
     ]
    }
   ],
   "source": [
    "%%time\n",
    "\n",
    "df_trx = pd.read_csv(f'data/transactions.csv')\n",
    "df_trx = trx_types(df_trx)\n",
    "df_trx = trx_pivot(df_trx)\n",
    "\n",
    "df_trx_train = df_trx[lambda x: x['user_id'].isin(df_matching_train['bank'].values)]\n",
    "df_trx_valid = df_trx[lambda x: x['user_id'].isin(df_matching_valid['bank'].values)]\n",
    "df_trx_test = df_trx[lambda x: x['user_id'].isin(df_matching_test['bank'].values)]\n",
    "\n",
    "print(df_trx_train.shape, df_trx_valid.shape, df_trx_test.shape)"
   ]
  },
  {
   "cell_type": "code",
   "execution_count": null,
   "id": "c7e58fa5",
   "metadata": {},
   "outputs": [],
   "source": []
  },
  {
   "cell_type": "code",
   "execution_count": null,
   "id": "cb6030d4",
   "metadata": {},
   "outputs": [],
   "source": []
  },
  {
   "cell_type": "code",
   "execution_count": null,
   "id": "af331fb9",
   "metadata": {},
   "outputs": [],
   "source": []
  },
  {
   "cell_type": "markdown",
   "id": "098994d3",
   "metadata": {},
   "source": [
    "## Metric learning embeddings"
   ]
  },
  {
   "cell_type": "code",
   "execution_count": 12,
   "id": "ff1aec26",
   "metadata": {},
   "outputs": [
    {
     "name": "stdout",
     "output_type": "stream",
     "text": [
      "(19821910, 5)\n",
      "22533\n"
     ]
    },
    {
     "data": {
      "text/html": [
       "<div>\n",
       "<style scoped>\n",
       "    .dataframe tbody tr th:only-of-type {\n",
       "        vertical-align: middle;\n",
       "    }\n",
       "\n",
       "    .dataframe tbody tr th {\n",
       "        vertical-align: top;\n",
       "    }\n",
       "\n",
       "    .dataframe thead th {\n",
       "        text-align: right;\n",
       "    }\n",
       "</style>\n",
       "<table border=\"1\" class=\"dataframe\">\n",
       "  <thead>\n",
       "    <tr style=\"text-align: right;\">\n",
       "      <th></th>\n",
       "      <th>user_id</th>\n",
       "      <th>mcc_code</th>\n",
       "      <th>currency_rk</th>\n",
       "      <th>transaction_amt</th>\n",
       "      <th>transaction_dttm</th>\n",
       "    </tr>\n",
       "  </thead>\n",
       "  <tbody>\n",
       "    <tr>\n",
       "      <th>0</th>\n",
       "      <td>000932580e404dafbecd5916d4640938</td>\n",
       "      <td>5411</td>\n",
       "      <td>48</td>\n",
       "      <td>-361.07230</td>\n",
       "      <td>2020-08-03 08:05:23</td>\n",
       "    </tr>\n",
       "    <tr>\n",
       "      <th>1</th>\n",
       "      <td>000932580e404dafbecd5916d4640938</td>\n",
       "      <td>5499</td>\n",
       "      <td>48</td>\n",
       "      <td>-137.31398</td>\n",
       "      <td>2020-08-05 01:27:40</td>\n",
       "    </tr>\n",
       "    <tr>\n",
       "      <th>2</th>\n",
       "      <td>000932580e404dafbecd5916d4640938</td>\n",
       "      <td>5499</td>\n",
       "      <td>48</td>\n",
       "      <td>-138.84981</td>\n",
       "      <td>2020-08-05 03:28:11</td>\n",
       "    </tr>\n",
       "    <tr>\n",
       "      <th>3</th>\n",
       "      <td>000932580e404dafbecd5916d4640938</td>\n",
       "      <td>4829</td>\n",
       "      <td>48</td>\n",
       "      <td>-309.47653</td>\n",
       "      <td>2020-08-06 00:36:29</td>\n",
       "    </tr>\n",
       "    <tr>\n",
       "      <th>4</th>\n",
       "      <td>000932580e404dafbecd5916d4640938</td>\n",
       "      <td>5411</td>\n",
       "      <td>48</td>\n",
       "      <td>-133.47370</td>\n",
       "      <td>2020-08-09 00:30:13</td>\n",
       "    </tr>\n",
       "  </tbody>\n",
       "</table>\n",
       "</div>"
      ],
      "text/plain": [
       "                            user_id  mcc_code  currency_rk  transaction_amt  \\\n",
       "0  000932580e404dafbecd5916d4640938      5411           48       -361.07230   \n",
       "1  000932580e404dafbecd5916d4640938      5499           48       -137.31398   \n",
       "2  000932580e404dafbecd5916d4640938      5499           48       -138.84981   \n",
       "3  000932580e404dafbecd5916d4640938      4829           48       -309.47653   \n",
       "4  000932580e404dafbecd5916d4640938      5411           48       -133.47370   \n",
       "\n",
       "      transaction_dttm  \n",
       "0  2020-08-03 08:05:23  \n",
       "1  2020-08-05 01:27:40  \n",
       "2  2020-08-05 03:28:11  \n",
       "3  2020-08-06 00:36:29  \n",
       "4  2020-08-09 00:30:13  "
      ]
     },
     "execution_count": 12,
     "metadata": {},
     "output_type": "execute_result"
    }
   ],
   "source": [
    "transactions = pd.read_csv(f'data/transactions.csv')\n",
    "\n",
    "print(transactions.shape)\n",
    "print(transactions.user_id.nunique())\n",
    "\n",
    "transactions.head()"
   ]
  },
  {
   "cell_type": "code",
   "execution_count": 13,
   "id": "43a6e436",
   "metadata": {},
   "outputs": [],
   "source": [
    "from dltranz.data_preprocessing import PandasDataPreprocessor\n",
    "from dltranz.seq_encoder import SequenceEncoder\n",
    "from dltranz.models import Head\n",
    "from dltranz.lightning_modules.emb_module import EmbModule\n",
    "from dltranz.inference import get_embeddings"
   ]
  },
  {
   "cell_type": "code",
   "execution_count": 14,
   "id": "2664360b",
   "metadata": {},
   "outputs": [
    {
     "name": "stdout",
     "output_type": "stream",
     "text": [
      "CPU times: user 37.5 s, sys: 3.57 s, total: 41 s\n",
      "Wall time: 41.1 s\n"
     ]
    },
    {
     "data": {
      "text/plain": [
       "22533"
      ]
     },
     "execution_count": 14,
     "metadata": {},
     "output_type": "execute_result"
    }
   ],
   "source": [
    "%%time\n",
    "trx_preprocessor = PandasDataPreprocessor(\n",
    "    col_id='user_id',\n",
    "    cols_event_time='transaction_dttm',\n",
    "    time_transformation='hours_from_min',\n",
    "    cols_category=[\"mcc_code\", \"currency_rk\"],\n",
    "    cols_log_norm=[\"transaction_amt\"],\n",
    ")\n",
    "\n",
    "trx_dataset = trx_preprocessor.fit_transform(transactions)\n",
    "\n",
    "len(trx_dataset)"
   ]
  },
  {
   "cell_type": "code",
   "execution_count": 15,
   "id": "bf91d3d3",
   "metadata": {},
   "outputs": [],
   "source": [
    "seq_encoder = SequenceEncoder(\n",
    "    category_features=trx_preprocessor.get_category_sizes(),\n",
    "    numeric_features=['transaction_amt'],\n",
    "    trx_embedding_noize=0.003\n",
    ")\n",
    "head = Head(input_size=seq_encoder.embedding_size, use_norm_encoder=True)\n",
    "trx_model = EmbModule(seq_encoder=seq_encoder, head=head)"
   ]
  },
  {
   "cell_type": "code",
   "execution_count": 16,
   "id": "2e54c75c",
   "metadata": {},
   "outputs": [],
   "source": [
    "from dltranz.data_load.data_module.emb_data_module import EmbeddingTrainDataModule\n",
    "\n",
    "dm = EmbeddingTrainDataModule(\n",
    "    dataset=trx_dataset,\n",
    "    pl_module=trx_model,\n",
    "    min_seq_len=25,\n",
    "    seq_split_strategy='SampleSlices',\n",
    "    category_names = trx_model.seq_encoder.category_names,\n",
    "    category_max_size = trx_model.seq_encoder.category_max_size,\n",
    "    split_count=5,\n",
    "    split_cnt_min=25,\n",
    "    split_cnt_max=200,\n",
    "    train_num_workers=16,\n",
    "    train_batch_size=256,\n",
    "    valid_num_workers=16,\n",
    "    valid_batch_size=256\n",
    ")"
   ]
  },
  {
   "cell_type": "code",
   "execution_count": 17,
   "id": "31b6f773",
   "metadata": {},
   "outputs": [
    {
     "name": "stderr",
     "output_type": "stream",
     "text": [
      "GPU available: True, used: True\n",
      "TPU available: False, using: 0 TPU cores\n",
      "IPU available: False, using: 0 IPUs\n"
     ]
    }
   ],
   "source": [
    "import torch\n",
    "import pytorch_lightning as pl\n",
    "\n",
    "import logging\n",
    "# logging.getLogger(\"lightning\").addHandler(logging.NullHandler())\n",
    "# logging.getLogger(\"lightning\").propagate = False\n",
    "\n",
    "trainer = pl.Trainer(\n",
    "    # progress_bar_refresh_rate=0,\n",
    "    max_epochs=150,\n",
    "    gpus=1 if torch.cuda.is_available() else 0\n",
    ")"
   ]
  },
  {
   "cell_type": "code",
   "execution_count": 18,
   "id": "893d233c",
   "metadata": {},
   "outputs": [
    {
     "data": {
      "application/vnd.jupyter.widget-view+json": {
       "model_id": "b22b209d0ffb485e8fc58da8f3574759",
       "version_major": 2,
       "version_minor": 0
      },
      "text/plain": [
       "0it [00:00, ?it/s]"
      ]
     },
     "metadata": {},
     "output_type": "display_data"
    },
    {
     "data": {
      "application/vnd.jupyter.widget-view+json": {
       "model_id": "93709150ef4649d997c0c39e84d88a38",
       "version_major": 2,
       "version_minor": 0
      },
      "text/plain": [
       "0it [00:00, ?it/s]"
      ]
     },
     "metadata": {},
     "output_type": "display_data"
    },
    {
     "name": "stderr",
     "output_type": "stream",
     "text": [
      "LOCAL_RANK: 0 - CUDA_VISIBLE_DEVICES: [0]\n",
      "\n",
      "  | Name               | Type             | Params\n",
      "--------------------------------------------------------\n",
      "0 | _seq_encoder       | SequenceEncoder  | 846 K \n",
      "1 | _validation_metric | BatchRecallTopPL | 0     \n",
      "2 | _head              | Head             | 0     \n",
      "--------------------------------------------------------\n",
      "846 K     Trainable params\n",
      "0         Non-trainable params\n",
      "846 K     Total params\n",
      "3.386     Total estimated model params size (MB)\n"
     ]
    },
    {
     "data": {
      "application/vnd.jupyter.widget-view+json": {
       "model_id": "",
       "version_major": 2,
       "version_minor": 0
      },
      "text/plain": [
       "Validation sanity check: 0it [00:00, ?it/s]"
      ]
     },
     "metadata": {},
     "output_type": "display_data"
    },
    {
     "data": {
      "application/vnd.jupyter.widget-view+json": {
       "model_id": "01ba824003db43d4905fc80716c0e9db",
       "version_major": 2,
       "version_minor": 0
      },
      "text/plain": [
       "Training: 0it [00:00, ?it/s]"
      ]
     },
     "metadata": {},
     "output_type": "display_data"
    },
    {
     "data": {
      "application/vnd.jupyter.widget-view+json": {
       "model_id": "",
       "version_major": 2,
       "version_minor": 0
      },
      "text/plain": [
       "Validating: 0it [00:00, ?it/s]"
      ]
     },
     "metadata": {},
     "output_type": "display_data"
    },
    {
     "data": {
      "application/vnd.jupyter.widget-view+json": {
       "model_id": "",
       "version_major": 2,
       "version_minor": 0
      },
      "text/plain": [
       "Validating: 0it [00:00, ?it/s]"
      ]
     },
     "metadata": {},
     "output_type": "display_data"
    },
    {
     "data": {
      "application/vnd.jupyter.widget-view+json": {
       "model_id": "",
       "version_major": 2,
       "version_minor": 0
      },
      "text/plain": [
       "Validating: 0it [00:00, ?it/s]"
      ]
     },
     "metadata": {},
     "output_type": "display_data"
    },
    {
     "data": {
      "application/vnd.jupyter.widget-view+json": {
       "model_id": "",
       "version_major": 2,
       "version_minor": 0
      },
      "text/plain": [
       "Validating: 0it [00:00, ?it/s]"
      ]
     },
     "metadata": {},
     "output_type": "display_data"
    },
    {
     "data": {
      "application/vnd.jupyter.widget-view+json": {
       "model_id": "",
       "version_major": 2,
       "version_minor": 0
      },
      "text/plain": [
       "Validating: 0it [00:00, ?it/s]"
      ]
     },
     "metadata": {},
     "output_type": "display_data"
    },
    {
     "data": {
      "application/vnd.jupyter.widget-view+json": {
       "model_id": "",
       "version_major": 2,
       "version_minor": 0
      },
      "text/plain": [
       "Validating: 0it [00:00, ?it/s]"
      ]
     },
     "metadata": {},
     "output_type": "display_data"
    },
    {
     "data": {
      "application/vnd.jupyter.widget-view+json": {
       "model_id": "",
       "version_major": 2,
       "version_minor": 0
      },
      "text/plain": [
       "Validating: 0it [00:00, ?it/s]"
      ]
     },
     "metadata": {},
     "output_type": "display_data"
    },
    {
     "data": {
      "application/vnd.jupyter.widget-view+json": {
       "model_id": "",
       "version_major": 2,
       "version_minor": 0
      },
      "text/plain": [
       "Validating: 0it [00:00, ?it/s]"
      ]
     },
     "metadata": {},
     "output_type": "display_data"
    },
    {
     "data": {
      "application/vnd.jupyter.widget-view+json": {
       "model_id": "",
       "version_major": 2,
       "version_minor": 0
      },
      "text/plain": [
       "Validating: 0it [00:00, ?it/s]"
      ]
     },
     "metadata": {},
     "output_type": "display_data"
    },
    {
     "data": {
      "application/vnd.jupyter.widget-view+json": {
       "model_id": "",
       "version_major": 2,
       "version_minor": 0
      },
      "text/plain": [
       "Validating: 0it [00:00, ?it/s]"
      ]
     },
     "metadata": {},
     "output_type": "display_data"
    },
    {
     "data": {
      "application/vnd.jupyter.widget-view+json": {
       "model_id": "",
       "version_major": 2,
       "version_minor": 0
      },
      "text/plain": [
       "Validating: 0it [00:00, ?it/s]"
      ]
     },
     "metadata": {},
     "output_type": "display_data"
    },
    {
     "data": {
      "application/vnd.jupyter.widget-view+json": {
       "model_id": "",
       "version_major": 2,
       "version_minor": 0
      },
      "text/plain": [
       "Validating: 0it [00:00, ?it/s]"
      ]
     },
     "metadata": {},
     "output_type": "display_data"
    },
    {
     "data": {
      "application/vnd.jupyter.widget-view+json": {
       "model_id": "",
       "version_major": 2,
       "version_minor": 0
      },
      "text/plain": [
       "Validating: 0it [00:00, ?it/s]"
      ]
     },
     "metadata": {},
     "output_type": "display_data"
    },
    {
     "data": {
      "application/vnd.jupyter.widget-view+json": {
       "model_id": "",
       "version_major": 2,
       "version_minor": 0
      },
      "text/plain": [
       "Validating: 0it [00:00, ?it/s]"
      ]
     },
     "metadata": {},
     "output_type": "display_data"
    },
    {
     "data": {
      "application/vnd.jupyter.widget-view+json": {
       "model_id": "",
       "version_major": 2,
       "version_minor": 0
      },
      "text/plain": [
       "Validating: 0it [00:00, ?it/s]"
      ]
     },
     "metadata": {},
     "output_type": "display_data"
    },
    {
     "data": {
      "application/vnd.jupyter.widget-view+json": {
       "model_id": "",
       "version_major": 2,
       "version_minor": 0
      },
      "text/plain": [
       "Validating: 0it [00:00, ?it/s]"
      ]
     },
     "metadata": {},
     "output_type": "display_data"
    },
    {
     "data": {
      "application/vnd.jupyter.widget-view+json": {
       "model_id": "",
       "version_major": 2,
       "version_minor": 0
      },
      "text/plain": [
       "Validating: 0it [00:00, ?it/s]"
      ]
     },
     "metadata": {},
     "output_type": "display_data"
    },
    {
     "data": {
      "application/vnd.jupyter.widget-view+json": {
       "model_id": "",
       "version_major": 2,
       "version_minor": 0
      },
      "text/plain": [
       "Validating: 0it [00:00, ?it/s]"
      ]
     },
     "metadata": {},
     "output_type": "display_data"
    },
    {
     "data": {
      "application/vnd.jupyter.widget-view+json": {
       "model_id": "",
       "version_major": 2,
       "version_minor": 0
      },
      "text/plain": [
       "Validating: 0it [00:00, ?it/s]"
      ]
     },
     "metadata": {},
     "output_type": "display_data"
    },
    {
     "data": {
      "application/vnd.jupyter.widget-view+json": {
       "model_id": "",
       "version_major": 2,
       "version_minor": 0
      },
      "text/plain": [
       "Validating: 0it [00:00, ?it/s]"
      ]
     },
     "metadata": {},
     "output_type": "display_data"
    },
    {
     "data": {
      "application/vnd.jupyter.widget-view+json": {
       "model_id": "",
       "version_major": 2,
       "version_minor": 0
      },
      "text/plain": [
       "Validating: 0it [00:00, ?it/s]"
      ]
     },
     "metadata": {},
     "output_type": "display_data"
    },
    {
     "data": {
      "application/vnd.jupyter.widget-view+json": {
       "model_id": "",
       "version_major": 2,
       "version_minor": 0
      },
      "text/plain": [
       "Validating: 0it [00:00, ?it/s]"
      ]
     },
     "metadata": {},
     "output_type": "display_data"
    },
    {
     "data": {
      "application/vnd.jupyter.widget-view+json": {
       "model_id": "",
       "version_major": 2,
       "version_minor": 0
      },
      "text/plain": [
       "Validating: 0it [00:00, ?it/s]"
      ]
     },
     "metadata": {},
     "output_type": "display_data"
    },
    {
     "data": {
      "application/vnd.jupyter.widget-view+json": {
       "model_id": "",
       "version_major": 2,
       "version_minor": 0
      },
      "text/plain": [
       "Validating: 0it [00:00, ?it/s]"
      ]
     },
     "metadata": {},
     "output_type": "display_data"
    },
    {
     "data": {
      "application/vnd.jupyter.widget-view+json": {
       "model_id": "",
       "version_major": 2,
       "version_minor": 0
      },
      "text/plain": [
       "Validating: 0it [00:00, ?it/s]"
      ]
     },
     "metadata": {},
     "output_type": "display_data"
    },
    {
     "data": {
      "application/vnd.jupyter.widget-view+json": {
       "model_id": "",
       "version_major": 2,
       "version_minor": 0
      },
      "text/plain": [
       "Validating: 0it [00:00, ?it/s]"
      ]
     },
     "metadata": {},
     "output_type": "display_data"
    },
    {
     "data": {
      "application/vnd.jupyter.widget-view+json": {
       "model_id": "",
       "version_major": 2,
       "version_minor": 0
      },
      "text/plain": [
       "Validating: 0it [00:00, ?it/s]"
      ]
     },
     "metadata": {},
     "output_type": "display_data"
    },
    {
     "data": {
      "application/vnd.jupyter.widget-view+json": {
       "model_id": "",
       "version_major": 2,
       "version_minor": 0
      },
      "text/plain": [
       "Validating: 0it [00:00, ?it/s]"
      ]
     },
     "metadata": {},
     "output_type": "display_data"
    },
    {
     "data": {
      "application/vnd.jupyter.widget-view+json": {
       "model_id": "",
       "version_major": 2,
       "version_minor": 0
      },
      "text/plain": [
       "Validating: 0it [00:00, ?it/s]"
      ]
     },
     "metadata": {},
     "output_type": "display_data"
    },
    {
     "data": {
      "application/vnd.jupyter.widget-view+json": {
       "model_id": "",
       "version_major": 2,
       "version_minor": 0
      },
      "text/plain": [
       "Validating: 0it [00:00, ?it/s]"
      ]
     },
     "metadata": {},
     "output_type": "display_data"
    },
    {
     "data": {
      "application/vnd.jupyter.widget-view+json": {
       "model_id": "",
       "version_major": 2,
       "version_minor": 0
      },
      "text/plain": [
       "Validating: 0it [00:00, ?it/s]"
      ]
     },
     "metadata": {},
     "output_type": "display_data"
    },
    {
     "data": {
      "application/vnd.jupyter.widget-view+json": {
       "model_id": "",
       "version_major": 2,
       "version_minor": 0
      },
      "text/plain": [
       "Validating: 0it [00:00, ?it/s]"
      ]
     },
     "metadata": {},
     "output_type": "display_data"
    },
    {
     "data": {
      "application/vnd.jupyter.widget-view+json": {
       "model_id": "",
       "version_major": 2,
       "version_minor": 0
      },
      "text/plain": [
       "Validating: 0it [00:00, ?it/s]"
      ]
     },
     "metadata": {},
     "output_type": "display_data"
    },
    {
     "data": {
      "application/vnd.jupyter.widget-view+json": {
       "model_id": "",
       "version_major": 2,
       "version_minor": 0
      },
      "text/plain": [
       "Validating: 0it [00:00, ?it/s]"
      ]
     },
     "metadata": {},
     "output_type": "display_data"
    },
    {
     "data": {
      "application/vnd.jupyter.widget-view+json": {
       "model_id": "",
       "version_major": 2,
       "version_minor": 0
      },
      "text/plain": [
       "Validating: 0it [00:00, ?it/s]"
      ]
     },
     "metadata": {},
     "output_type": "display_data"
    },
    {
     "data": {
      "application/vnd.jupyter.widget-view+json": {
       "model_id": "",
       "version_major": 2,
       "version_minor": 0
      },
      "text/plain": [
       "Validating: 0it [00:00, ?it/s]"
      ]
     },
     "metadata": {},
     "output_type": "display_data"
    },
    {
     "data": {
      "application/vnd.jupyter.widget-view+json": {
       "model_id": "",
       "version_major": 2,
       "version_minor": 0
      },
      "text/plain": [
       "Validating: 0it [00:00, ?it/s]"
      ]
     },
     "metadata": {},
     "output_type": "display_data"
    },
    {
     "data": {
      "application/vnd.jupyter.widget-view+json": {
       "model_id": "",
       "version_major": 2,
       "version_minor": 0
      },
      "text/plain": [
       "Validating: 0it [00:00, ?it/s]"
      ]
     },
     "metadata": {},
     "output_type": "display_data"
    },
    {
     "data": {
      "application/vnd.jupyter.widget-view+json": {
       "model_id": "",
       "version_major": 2,
       "version_minor": 0
      },
      "text/plain": [
       "Validating: 0it [00:00, ?it/s]"
      ]
     },
     "metadata": {},
     "output_type": "display_data"
    },
    {
     "data": {
      "application/vnd.jupyter.widget-view+json": {
       "model_id": "",
       "version_major": 2,
       "version_minor": 0
      },
      "text/plain": [
       "Validating: 0it [00:00, ?it/s]"
      ]
     },
     "metadata": {},
     "output_type": "display_data"
    },
    {
     "data": {
      "application/vnd.jupyter.widget-view+json": {
       "model_id": "",
       "version_major": 2,
       "version_minor": 0
      },
      "text/plain": [
       "Validating: 0it [00:00, ?it/s]"
      ]
     },
     "metadata": {},
     "output_type": "display_data"
    },
    {
     "data": {
      "application/vnd.jupyter.widget-view+json": {
       "model_id": "",
       "version_major": 2,
       "version_minor": 0
      },
      "text/plain": [
       "Validating: 0it [00:00, ?it/s]"
      ]
     },
     "metadata": {},
     "output_type": "display_data"
    },
    {
     "data": {
      "application/vnd.jupyter.widget-view+json": {
       "model_id": "",
       "version_major": 2,
       "version_minor": 0
      },
      "text/plain": [
       "Validating: 0it [00:00, ?it/s]"
      ]
     },
     "metadata": {},
     "output_type": "display_data"
    },
    {
     "data": {
      "application/vnd.jupyter.widget-view+json": {
       "model_id": "",
       "version_major": 2,
       "version_minor": 0
      },
      "text/plain": [
       "Validating: 0it [00:00, ?it/s]"
      ]
     },
     "metadata": {},
     "output_type": "display_data"
    },
    {
     "data": {
      "application/vnd.jupyter.widget-view+json": {
       "model_id": "",
       "version_major": 2,
       "version_minor": 0
      },
      "text/plain": [
       "Validating: 0it [00:00, ?it/s]"
      ]
     },
     "metadata": {},
     "output_type": "display_data"
    },
    {
     "data": {
      "application/vnd.jupyter.widget-view+json": {
       "model_id": "",
       "version_major": 2,
       "version_minor": 0
      },
      "text/plain": [
       "Validating: 0it [00:00, ?it/s]"
      ]
     },
     "metadata": {},
     "output_type": "display_data"
    },
    {
     "data": {
      "application/vnd.jupyter.widget-view+json": {
       "model_id": "",
       "version_major": 2,
       "version_minor": 0
      },
      "text/plain": [
       "Validating: 0it [00:00, ?it/s]"
      ]
     },
     "metadata": {},
     "output_type": "display_data"
    },
    {
     "data": {
      "application/vnd.jupyter.widget-view+json": {
       "model_id": "",
       "version_major": 2,
       "version_minor": 0
      },
      "text/plain": [
       "Validating: 0it [00:00, ?it/s]"
      ]
     },
     "metadata": {},
     "output_type": "display_data"
    },
    {
     "data": {
      "application/vnd.jupyter.widget-view+json": {
       "model_id": "",
       "version_major": 2,
       "version_minor": 0
      },
      "text/plain": [
       "Validating: 0it [00:00, ?it/s]"
      ]
     },
     "metadata": {},
     "output_type": "display_data"
    },
    {
     "data": {
      "application/vnd.jupyter.widget-view+json": {
       "model_id": "",
       "version_major": 2,
       "version_minor": 0
      },
      "text/plain": [
       "Validating: 0it [00:00, ?it/s]"
      ]
     },
     "metadata": {},
     "output_type": "display_data"
    },
    {
     "data": {
      "application/vnd.jupyter.widget-view+json": {
       "model_id": "",
       "version_major": 2,
       "version_minor": 0
      },
      "text/plain": [
       "Validating: 0it [00:00, ?it/s]"
      ]
     },
     "metadata": {},
     "output_type": "display_data"
    },
    {
     "data": {
      "application/vnd.jupyter.widget-view+json": {
       "model_id": "",
       "version_major": 2,
       "version_minor": 0
      },
      "text/plain": [
       "Validating: 0it [00:00, ?it/s]"
      ]
     },
     "metadata": {},
     "output_type": "display_data"
    },
    {
     "data": {
      "application/vnd.jupyter.widget-view+json": {
       "model_id": "",
       "version_major": 2,
       "version_minor": 0
      },
      "text/plain": [
       "Validating: 0it [00:00, ?it/s]"
      ]
     },
     "metadata": {},
     "output_type": "display_data"
    },
    {
     "data": {
      "application/vnd.jupyter.widget-view+json": {
       "model_id": "",
       "version_major": 2,
       "version_minor": 0
      },
      "text/plain": [
       "Validating: 0it [00:00, ?it/s]"
      ]
     },
     "metadata": {},
     "output_type": "display_data"
    },
    {
     "data": {
      "application/vnd.jupyter.widget-view+json": {
       "model_id": "",
       "version_major": 2,
       "version_minor": 0
      },
      "text/plain": [
       "Validating: 0it [00:00, ?it/s]"
      ]
     },
     "metadata": {},
     "output_type": "display_data"
    },
    {
     "data": {
      "application/vnd.jupyter.widget-view+json": {
       "model_id": "",
       "version_major": 2,
       "version_minor": 0
      },
      "text/plain": [
       "Validating: 0it [00:00, ?it/s]"
      ]
     },
     "metadata": {},
     "output_type": "display_data"
    },
    {
     "data": {
      "application/vnd.jupyter.widget-view+json": {
       "model_id": "",
       "version_major": 2,
       "version_minor": 0
      },
      "text/plain": [
       "Validating: 0it [00:00, ?it/s]"
      ]
     },
     "metadata": {},
     "output_type": "display_data"
    },
    {
     "data": {
      "application/vnd.jupyter.widget-view+json": {
       "model_id": "",
       "version_major": 2,
       "version_minor": 0
      },
      "text/plain": [
       "Validating: 0it [00:00, ?it/s]"
      ]
     },
     "metadata": {},
     "output_type": "display_data"
    },
    {
     "data": {
      "application/vnd.jupyter.widget-view+json": {
       "model_id": "",
       "version_major": 2,
       "version_minor": 0
      },
      "text/plain": [
       "Validating: 0it [00:00, ?it/s]"
      ]
     },
     "metadata": {},
     "output_type": "display_data"
    },
    {
     "data": {
      "application/vnd.jupyter.widget-view+json": {
       "model_id": "",
       "version_major": 2,
       "version_minor": 0
      },
      "text/plain": [
       "Validating: 0it [00:00, ?it/s]"
      ]
     },
     "metadata": {},
     "output_type": "display_data"
    },
    {
     "data": {
      "application/vnd.jupyter.widget-view+json": {
       "model_id": "",
       "version_major": 2,
       "version_minor": 0
      },
      "text/plain": [
       "Validating: 0it [00:00, ?it/s]"
      ]
     },
     "metadata": {},
     "output_type": "display_data"
    },
    {
     "data": {
      "application/vnd.jupyter.widget-view+json": {
       "model_id": "",
       "version_major": 2,
       "version_minor": 0
      },
      "text/plain": [
       "Validating: 0it [00:00, ?it/s]"
      ]
     },
     "metadata": {},
     "output_type": "display_data"
    },
    {
     "data": {
      "application/vnd.jupyter.widget-view+json": {
       "model_id": "",
       "version_major": 2,
       "version_minor": 0
      },
      "text/plain": [
       "Validating: 0it [00:00, ?it/s]"
      ]
     },
     "metadata": {},
     "output_type": "display_data"
    },
    {
     "data": {
      "application/vnd.jupyter.widget-view+json": {
       "model_id": "",
       "version_major": 2,
       "version_minor": 0
      },
      "text/plain": [
       "Validating: 0it [00:00, ?it/s]"
      ]
     },
     "metadata": {},
     "output_type": "display_data"
    },
    {
     "data": {
      "application/vnd.jupyter.widget-view+json": {
       "model_id": "",
       "version_major": 2,
       "version_minor": 0
      },
      "text/plain": [
       "Validating: 0it [00:00, ?it/s]"
      ]
     },
     "metadata": {},
     "output_type": "display_data"
    },
    {
     "data": {
      "application/vnd.jupyter.widget-view+json": {
       "model_id": "",
       "version_major": 2,
       "version_minor": 0
      },
      "text/plain": [
       "Validating: 0it [00:00, ?it/s]"
      ]
     },
     "metadata": {},
     "output_type": "display_data"
    },
    {
     "data": {
      "application/vnd.jupyter.widget-view+json": {
       "model_id": "",
       "version_major": 2,
       "version_minor": 0
      },
      "text/plain": [
       "Validating: 0it [00:00, ?it/s]"
      ]
     },
     "metadata": {},
     "output_type": "display_data"
    },
    {
     "data": {
      "application/vnd.jupyter.widget-view+json": {
       "model_id": "",
       "version_major": 2,
       "version_minor": 0
      },
      "text/plain": [
       "Validating: 0it [00:00, ?it/s]"
      ]
     },
     "metadata": {},
     "output_type": "display_data"
    },
    {
     "data": {
      "application/vnd.jupyter.widget-view+json": {
       "model_id": "",
       "version_major": 2,
       "version_minor": 0
      },
      "text/plain": [
       "Validating: 0it [00:00, ?it/s]"
      ]
     },
     "metadata": {},
     "output_type": "display_data"
    },
    {
     "data": {
      "application/vnd.jupyter.widget-view+json": {
       "model_id": "",
       "version_major": 2,
       "version_minor": 0
      },
      "text/plain": [
       "Validating: 0it [00:00, ?it/s]"
      ]
     },
     "metadata": {},
     "output_type": "display_data"
    },
    {
     "data": {
      "application/vnd.jupyter.widget-view+json": {
       "model_id": "",
       "version_major": 2,
       "version_minor": 0
      },
      "text/plain": [
       "Validating: 0it [00:00, ?it/s]"
      ]
     },
     "metadata": {},
     "output_type": "display_data"
    },
    {
     "data": {
      "application/vnd.jupyter.widget-view+json": {
       "model_id": "",
       "version_major": 2,
       "version_minor": 0
      },
      "text/plain": [
       "Validating: 0it [00:00, ?it/s]"
      ]
     },
     "metadata": {},
     "output_type": "display_data"
    },
    {
     "data": {
      "application/vnd.jupyter.widget-view+json": {
       "model_id": "",
       "version_major": 2,
       "version_minor": 0
      },
      "text/plain": [
       "Validating: 0it [00:00, ?it/s]"
      ]
     },
     "metadata": {},
     "output_type": "display_data"
    },
    {
     "data": {
      "application/vnd.jupyter.widget-view+json": {
       "model_id": "",
       "version_major": 2,
       "version_minor": 0
      },
      "text/plain": [
       "Validating: 0it [00:00, ?it/s]"
      ]
     },
     "metadata": {},
     "output_type": "display_data"
    },
    {
     "data": {
      "application/vnd.jupyter.widget-view+json": {
       "model_id": "",
       "version_major": 2,
       "version_minor": 0
      },
      "text/plain": [
       "Validating: 0it [00:00, ?it/s]"
      ]
     },
     "metadata": {},
     "output_type": "display_data"
    },
    {
     "data": {
      "application/vnd.jupyter.widget-view+json": {
       "model_id": "",
       "version_major": 2,
       "version_minor": 0
      },
      "text/plain": [
       "Validating: 0it [00:00, ?it/s]"
      ]
     },
     "metadata": {},
     "output_type": "display_data"
    },
    {
     "data": {
      "application/vnd.jupyter.widget-view+json": {
       "model_id": "",
       "version_major": 2,
       "version_minor": 0
      },
      "text/plain": [
       "Validating: 0it [00:00, ?it/s]"
      ]
     },
     "metadata": {},
     "output_type": "display_data"
    },
    {
     "data": {
      "application/vnd.jupyter.widget-view+json": {
       "model_id": "",
       "version_major": 2,
       "version_minor": 0
      },
      "text/plain": [
       "Validating: 0it [00:00, ?it/s]"
      ]
     },
     "metadata": {},
     "output_type": "display_data"
    },
    {
     "data": {
      "application/vnd.jupyter.widget-view+json": {
       "model_id": "",
       "version_major": 2,
       "version_minor": 0
      },
      "text/plain": [
       "Validating: 0it [00:00, ?it/s]"
      ]
     },
     "metadata": {},
     "output_type": "display_data"
    },
    {
     "data": {
      "application/vnd.jupyter.widget-view+json": {
       "model_id": "",
       "version_major": 2,
       "version_minor": 0
      },
      "text/plain": [
       "Validating: 0it [00:00, ?it/s]"
      ]
     },
     "metadata": {},
     "output_type": "display_data"
    },
    {
     "data": {
      "application/vnd.jupyter.widget-view+json": {
       "model_id": "",
       "version_major": 2,
       "version_minor": 0
      },
      "text/plain": [
       "Validating: 0it [00:00, ?it/s]"
      ]
     },
     "metadata": {},
     "output_type": "display_data"
    },
    {
     "data": {
      "application/vnd.jupyter.widget-view+json": {
       "model_id": "",
       "version_major": 2,
       "version_minor": 0
      },
      "text/plain": [
       "Validating: 0it [00:00, ?it/s]"
      ]
     },
     "metadata": {},
     "output_type": "display_data"
    },
    {
     "data": {
      "application/vnd.jupyter.widget-view+json": {
       "model_id": "",
       "version_major": 2,
       "version_minor": 0
      },
      "text/plain": [
       "Validating: 0it [00:00, ?it/s]"
      ]
     },
     "metadata": {},
     "output_type": "display_data"
    },
    {
     "data": {
      "application/vnd.jupyter.widget-view+json": {
       "model_id": "",
       "version_major": 2,
       "version_minor": 0
      },
      "text/plain": [
       "Validating: 0it [00:00, ?it/s]"
      ]
     },
     "metadata": {},
     "output_type": "display_data"
    },
    {
     "data": {
      "application/vnd.jupyter.widget-view+json": {
       "model_id": "",
       "version_major": 2,
       "version_minor": 0
      },
      "text/plain": [
       "Validating: 0it [00:00, ?it/s]"
      ]
     },
     "metadata": {},
     "output_type": "display_data"
    },
    {
     "data": {
      "application/vnd.jupyter.widget-view+json": {
       "model_id": "",
       "version_major": 2,
       "version_minor": 0
      },
      "text/plain": [
       "Validating: 0it [00:00, ?it/s]"
      ]
     },
     "metadata": {},
     "output_type": "display_data"
    },
    {
     "data": {
      "application/vnd.jupyter.widget-view+json": {
       "model_id": "",
       "version_major": 2,
       "version_minor": 0
      },
      "text/plain": [
       "Validating: 0it [00:00, ?it/s]"
      ]
     },
     "metadata": {},
     "output_type": "display_data"
    },
    {
     "data": {
      "application/vnd.jupyter.widget-view+json": {
       "model_id": "",
       "version_major": 2,
       "version_minor": 0
      },
      "text/plain": [
       "Validating: 0it [00:00, ?it/s]"
      ]
     },
     "metadata": {},
     "output_type": "display_data"
    },
    {
     "data": {
      "application/vnd.jupyter.widget-view+json": {
       "model_id": "",
       "version_major": 2,
       "version_minor": 0
      },
      "text/plain": [
       "Validating: 0it [00:00, ?it/s]"
      ]
     },
     "metadata": {},
     "output_type": "display_data"
    },
    {
     "data": {
      "application/vnd.jupyter.widget-view+json": {
       "model_id": "",
       "version_major": 2,
       "version_minor": 0
      },
      "text/plain": [
       "Validating: 0it [00:00, ?it/s]"
      ]
     },
     "metadata": {},
     "output_type": "display_data"
    },
    {
     "data": {
      "application/vnd.jupyter.widget-view+json": {
       "model_id": "",
       "version_major": 2,
       "version_minor": 0
      },
      "text/plain": [
       "Validating: 0it [00:00, ?it/s]"
      ]
     },
     "metadata": {},
     "output_type": "display_data"
    },
    {
     "data": {
      "application/vnd.jupyter.widget-view+json": {
       "model_id": "",
       "version_major": 2,
       "version_minor": 0
      },
      "text/plain": [
       "Validating: 0it [00:00, ?it/s]"
      ]
     },
     "metadata": {},
     "output_type": "display_data"
    },
    {
     "data": {
      "application/vnd.jupyter.widget-view+json": {
       "model_id": "",
       "version_major": 2,
       "version_minor": 0
      },
      "text/plain": [
       "Validating: 0it [00:00, ?it/s]"
      ]
     },
     "metadata": {},
     "output_type": "display_data"
    },
    {
     "data": {
      "application/vnd.jupyter.widget-view+json": {
       "model_id": "",
       "version_major": 2,
       "version_minor": 0
      },
      "text/plain": [
       "Validating: 0it [00:00, ?it/s]"
      ]
     },
     "metadata": {},
     "output_type": "display_data"
    },
    {
     "data": {
      "application/vnd.jupyter.widget-view+json": {
       "model_id": "",
       "version_major": 2,
       "version_minor": 0
      },
      "text/plain": [
       "Validating: 0it [00:00, ?it/s]"
      ]
     },
     "metadata": {},
     "output_type": "display_data"
    },
    {
     "data": {
      "application/vnd.jupyter.widget-view+json": {
       "model_id": "",
       "version_major": 2,
       "version_minor": 0
      },
      "text/plain": [
       "Validating: 0it [00:00, ?it/s]"
      ]
     },
     "metadata": {},
     "output_type": "display_data"
    },
    {
     "data": {
      "application/vnd.jupyter.widget-view+json": {
       "model_id": "",
       "version_major": 2,
       "version_minor": 0
      },
      "text/plain": [
       "Validating: 0it [00:00, ?it/s]"
      ]
     },
     "metadata": {},
     "output_type": "display_data"
    },
    {
     "data": {
      "application/vnd.jupyter.widget-view+json": {
       "model_id": "",
       "version_major": 2,
       "version_minor": 0
      },
      "text/plain": [
       "Validating: 0it [00:00, ?it/s]"
      ]
     },
     "metadata": {},
     "output_type": "display_data"
    },
    {
     "data": {
      "application/vnd.jupyter.widget-view+json": {
       "model_id": "",
       "version_major": 2,
       "version_minor": 0
      },
      "text/plain": [
       "Validating: 0it [00:00, ?it/s]"
      ]
     },
     "metadata": {},
     "output_type": "display_data"
    },
    {
     "data": {
      "application/vnd.jupyter.widget-view+json": {
       "model_id": "",
       "version_major": 2,
       "version_minor": 0
      },
      "text/plain": [
       "Validating: 0it [00:00, ?it/s]"
      ]
     },
     "metadata": {},
     "output_type": "display_data"
    },
    {
     "data": {
      "application/vnd.jupyter.widget-view+json": {
       "model_id": "",
       "version_major": 2,
       "version_minor": 0
      },
      "text/plain": [
       "Validating: 0it [00:00, ?it/s]"
      ]
     },
     "metadata": {},
     "output_type": "display_data"
    },
    {
     "data": {
      "application/vnd.jupyter.widget-view+json": {
       "model_id": "",
       "version_major": 2,
       "version_minor": 0
      },
      "text/plain": [
       "Validating: 0it [00:00, ?it/s]"
      ]
     },
     "metadata": {},
     "output_type": "display_data"
    },
    {
     "data": {
      "application/vnd.jupyter.widget-view+json": {
       "model_id": "",
       "version_major": 2,
       "version_minor": 0
      },
      "text/plain": [
       "Validating: 0it [00:00, ?it/s]"
      ]
     },
     "metadata": {},
     "output_type": "display_data"
    },
    {
     "data": {
      "application/vnd.jupyter.widget-view+json": {
       "model_id": "",
       "version_major": 2,
       "version_minor": 0
      },
      "text/plain": [
       "Validating: 0it [00:00, ?it/s]"
      ]
     },
     "metadata": {},
     "output_type": "display_data"
    },
    {
     "data": {
      "application/vnd.jupyter.widget-view+json": {
       "model_id": "",
       "version_major": 2,
       "version_minor": 0
      },
      "text/plain": [
       "Validating: 0it [00:00, ?it/s]"
      ]
     },
     "metadata": {},
     "output_type": "display_data"
    },
    {
     "data": {
      "application/vnd.jupyter.widget-view+json": {
       "model_id": "",
       "version_major": 2,
       "version_minor": 0
      },
      "text/plain": [
       "Validating: 0it [00:00, ?it/s]"
      ]
     },
     "metadata": {},
     "output_type": "display_data"
    },
    {
     "data": {
      "application/vnd.jupyter.widget-view+json": {
       "model_id": "",
       "version_major": 2,
       "version_minor": 0
      },
      "text/plain": [
       "Validating: 0it [00:00, ?it/s]"
      ]
     },
     "metadata": {},
     "output_type": "display_data"
    },
    {
     "data": {
      "application/vnd.jupyter.widget-view+json": {
       "model_id": "",
       "version_major": 2,
       "version_minor": 0
      },
      "text/plain": [
       "Validating: 0it [00:00, ?it/s]"
      ]
     },
     "metadata": {},
     "output_type": "display_data"
    },
    {
     "data": {
      "application/vnd.jupyter.widget-view+json": {
       "model_id": "",
       "version_major": 2,
       "version_minor": 0
      },
      "text/plain": [
       "Validating: 0it [00:00, ?it/s]"
      ]
     },
     "metadata": {},
     "output_type": "display_data"
    },
    {
     "data": {
      "application/vnd.jupyter.widget-view+json": {
       "model_id": "",
       "version_major": 2,
       "version_minor": 0
      },
      "text/plain": [
       "Validating: 0it [00:00, ?it/s]"
      ]
     },
     "metadata": {},
     "output_type": "display_data"
    },
    {
     "data": {
      "application/vnd.jupyter.widget-view+json": {
       "model_id": "",
       "version_major": 2,
       "version_minor": 0
      },
      "text/plain": [
       "Validating: 0it [00:00, ?it/s]"
      ]
     },
     "metadata": {},
     "output_type": "display_data"
    },
    {
     "data": {
      "application/vnd.jupyter.widget-view+json": {
       "model_id": "",
       "version_major": 2,
       "version_minor": 0
      },
      "text/plain": [
       "Validating: 0it [00:00, ?it/s]"
      ]
     },
     "metadata": {},
     "output_type": "display_data"
    },
    {
     "data": {
      "application/vnd.jupyter.widget-view+json": {
       "model_id": "",
       "version_major": 2,
       "version_minor": 0
      },
      "text/plain": [
       "Validating: 0it [00:00, ?it/s]"
      ]
     },
     "metadata": {},
     "output_type": "display_data"
    },
    {
     "data": {
      "application/vnd.jupyter.widget-view+json": {
       "model_id": "",
       "version_major": 2,
       "version_minor": 0
      },
      "text/plain": [
       "Validating: 0it [00:00, ?it/s]"
      ]
     },
     "metadata": {},
     "output_type": "display_data"
    },
    {
     "data": {
      "application/vnd.jupyter.widget-view+json": {
       "model_id": "",
       "version_major": 2,
       "version_minor": 0
      },
      "text/plain": [
       "Validating: 0it [00:00, ?it/s]"
      ]
     },
     "metadata": {},
     "output_type": "display_data"
    },
    {
     "data": {
      "application/vnd.jupyter.widget-view+json": {
       "model_id": "",
       "version_major": 2,
       "version_minor": 0
      },
      "text/plain": [
       "Validating: 0it [00:00, ?it/s]"
      ]
     },
     "metadata": {},
     "output_type": "display_data"
    },
    {
     "data": {
      "application/vnd.jupyter.widget-view+json": {
       "model_id": "",
       "version_major": 2,
       "version_minor": 0
      },
      "text/plain": [
       "Validating: 0it [00:00, ?it/s]"
      ]
     },
     "metadata": {},
     "output_type": "display_data"
    },
    {
     "data": {
      "application/vnd.jupyter.widget-view+json": {
       "model_id": "",
       "version_major": 2,
       "version_minor": 0
      },
      "text/plain": [
       "Validating: 0it [00:00, ?it/s]"
      ]
     },
     "metadata": {},
     "output_type": "display_data"
    },
    {
     "data": {
      "application/vnd.jupyter.widget-view+json": {
       "model_id": "",
       "version_major": 2,
       "version_minor": 0
      },
      "text/plain": [
       "Validating: 0it [00:00, ?it/s]"
      ]
     },
     "metadata": {},
     "output_type": "display_data"
    },
    {
     "data": {
      "application/vnd.jupyter.widget-view+json": {
       "model_id": "",
       "version_major": 2,
       "version_minor": 0
      },
      "text/plain": [
       "Validating: 0it [00:00, ?it/s]"
      ]
     },
     "metadata": {},
     "output_type": "display_data"
    },
    {
     "data": {
      "application/vnd.jupyter.widget-view+json": {
       "model_id": "",
       "version_major": 2,
       "version_minor": 0
      },
      "text/plain": [
       "Validating: 0it [00:00, ?it/s]"
      ]
     },
     "metadata": {},
     "output_type": "display_data"
    },
    {
     "data": {
      "application/vnd.jupyter.widget-view+json": {
       "model_id": "",
       "version_major": 2,
       "version_minor": 0
      },
      "text/plain": [
       "Validating: 0it [00:00, ?it/s]"
      ]
     },
     "metadata": {},
     "output_type": "display_data"
    },
    {
     "data": {
      "application/vnd.jupyter.widget-view+json": {
       "model_id": "",
       "version_major": 2,
       "version_minor": 0
      },
      "text/plain": [
       "Validating: 0it [00:00, ?it/s]"
      ]
     },
     "metadata": {},
     "output_type": "display_data"
    },
    {
     "data": {
      "application/vnd.jupyter.widget-view+json": {
       "model_id": "",
       "version_major": 2,
       "version_minor": 0
      },
      "text/plain": [
       "Validating: 0it [00:00, ?it/s]"
      ]
     },
     "metadata": {},
     "output_type": "display_data"
    },
    {
     "data": {
      "application/vnd.jupyter.widget-view+json": {
       "model_id": "",
       "version_major": 2,
       "version_minor": 0
      },
      "text/plain": [
       "Validating: 0it [00:00, ?it/s]"
      ]
     },
     "metadata": {},
     "output_type": "display_data"
    },
    {
     "data": {
      "application/vnd.jupyter.widget-view+json": {
       "model_id": "",
       "version_major": 2,
       "version_minor": 0
      },
      "text/plain": [
       "Validating: 0it [00:00, ?it/s]"
      ]
     },
     "metadata": {},
     "output_type": "display_data"
    },
    {
     "data": {
      "application/vnd.jupyter.widget-view+json": {
       "model_id": "",
       "version_major": 2,
       "version_minor": 0
      },
      "text/plain": [
       "Validating: 0it [00:00, ?it/s]"
      ]
     },
     "metadata": {},
     "output_type": "display_data"
    },
    {
     "data": {
      "application/vnd.jupyter.widget-view+json": {
       "model_id": "",
       "version_major": 2,
       "version_minor": 0
      },
      "text/plain": [
       "Validating: 0it [00:00, ?it/s]"
      ]
     },
     "metadata": {},
     "output_type": "display_data"
    },
    {
     "data": {
      "application/vnd.jupyter.widget-view+json": {
       "model_id": "",
       "version_major": 2,
       "version_minor": 0
      },
      "text/plain": [
       "Validating: 0it [00:00, ?it/s]"
      ]
     },
     "metadata": {},
     "output_type": "display_data"
    },
    {
     "data": {
      "application/vnd.jupyter.widget-view+json": {
       "model_id": "",
       "version_major": 2,
       "version_minor": 0
      },
      "text/plain": [
       "Validating: 0it [00:00, ?it/s]"
      ]
     },
     "metadata": {},
     "output_type": "display_data"
    },
    {
     "data": {
      "application/vnd.jupyter.widget-view+json": {
       "model_id": "",
       "version_major": 2,
       "version_minor": 0
      },
      "text/plain": [
       "Validating: 0it [00:00, ?it/s]"
      ]
     },
     "metadata": {},
     "output_type": "display_data"
    },
    {
     "data": {
      "application/vnd.jupyter.widget-view+json": {
       "model_id": "",
       "version_major": 2,
       "version_minor": 0
      },
      "text/plain": [
       "Validating: 0it [00:00, ?it/s]"
      ]
     },
     "metadata": {},
     "output_type": "display_data"
    },
    {
     "data": {
      "application/vnd.jupyter.widget-view+json": {
       "model_id": "",
       "version_major": 2,
       "version_minor": 0
      },
      "text/plain": [
       "Validating: 0it [00:00, ?it/s]"
      ]
     },
     "metadata": {},
     "output_type": "display_data"
    },
    {
     "data": {
      "application/vnd.jupyter.widget-view+json": {
       "model_id": "",
       "version_major": 2,
       "version_minor": 0
      },
      "text/plain": [
       "Validating: 0it [00:00, ?it/s]"
      ]
     },
     "metadata": {},
     "output_type": "display_data"
    },
    {
     "data": {
      "application/vnd.jupyter.widget-view+json": {
       "model_id": "",
       "version_major": 2,
       "version_minor": 0
      },
      "text/plain": [
       "Validating: 0it [00:00, ?it/s]"
      ]
     },
     "metadata": {},
     "output_type": "display_data"
    },
    {
     "data": {
      "application/vnd.jupyter.widget-view+json": {
       "model_id": "",
       "version_major": 2,
       "version_minor": 0
      },
      "text/plain": [
       "Validating: 0it [00:00, ?it/s]"
      ]
     },
     "metadata": {},
     "output_type": "display_data"
    },
    {
     "data": {
      "application/vnd.jupyter.widget-view+json": {
       "model_id": "",
       "version_major": 2,
       "version_minor": 0
      },
      "text/plain": [
       "Validating: 0it [00:00, ?it/s]"
      ]
     },
     "metadata": {},
     "output_type": "display_data"
    },
    {
     "data": {
      "application/vnd.jupyter.widget-view+json": {
       "model_id": "",
       "version_major": 2,
       "version_minor": 0
      },
      "text/plain": [
       "Validating: 0it [00:00, ?it/s]"
      ]
     },
     "metadata": {},
     "output_type": "display_data"
    },
    {
     "data": {
      "application/vnd.jupyter.widget-view+json": {
       "model_id": "",
       "version_major": 2,
       "version_minor": 0
      },
      "text/plain": [
       "Validating: 0it [00:00, ?it/s]"
      ]
     },
     "metadata": {},
     "output_type": "display_data"
    },
    {
     "data": {
      "application/vnd.jupyter.widget-view+json": {
       "model_id": "",
       "version_major": 2,
       "version_minor": 0
      },
      "text/plain": [
       "Validating: 0it [00:00, ?it/s]"
      ]
     },
     "metadata": {},
     "output_type": "display_data"
    },
    {
     "data": {
      "application/vnd.jupyter.widget-view+json": {
       "model_id": "",
       "version_major": 2,
       "version_minor": 0
      },
      "text/plain": [
       "Validating: 0it [00:00, ?it/s]"
      ]
     },
     "metadata": {},
     "output_type": "display_data"
    },
    {
     "data": {
      "application/vnd.jupyter.widget-view+json": {
       "model_id": "",
       "version_major": 2,
       "version_minor": 0
      },
      "text/plain": [
       "Validating: 0it [00:00, ?it/s]"
      ]
     },
     "metadata": {},
     "output_type": "display_data"
    },
    {
     "data": {
      "application/vnd.jupyter.widget-view+json": {
       "model_id": "",
       "version_major": 2,
       "version_minor": 0
      },
      "text/plain": [
       "Validating: 0it [00:00, ?it/s]"
      ]
     },
     "metadata": {},
     "output_type": "display_data"
    },
    {
     "data": {
      "application/vnd.jupyter.widget-view+json": {
       "model_id": "",
       "version_major": 2,
       "version_minor": 0
      },
      "text/plain": [
       "Validating: 0it [00:00, ?it/s]"
      ]
     },
     "metadata": {},
     "output_type": "display_data"
    },
    {
     "data": {
      "application/vnd.jupyter.widget-view+json": {
       "model_id": "",
       "version_major": 2,
       "version_minor": 0
      },
      "text/plain": [
       "Validating: 0it [00:00, ?it/s]"
      ]
     },
     "metadata": {},
     "output_type": "display_data"
    },
    {
     "data": {
      "application/vnd.jupyter.widget-view+json": {
       "model_id": "",
       "version_major": 2,
       "version_minor": 0
      },
      "text/plain": [
       "Validating: 0it [00:00, ?it/s]"
      ]
     },
     "metadata": {},
     "output_type": "display_data"
    },
    {
     "data": {
      "application/vnd.jupyter.widget-view+json": {
       "model_id": "",
       "version_major": 2,
       "version_minor": 0
      },
      "text/plain": [
       "Validating: 0it [00:00, ?it/s]"
      ]
     },
     "metadata": {},
     "output_type": "display_data"
    },
    {
     "data": {
      "application/vnd.jupyter.widget-view+json": {
       "model_id": "",
       "version_major": 2,
       "version_minor": 0
      },
      "text/plain": [
       "Validating: 0it [00:00, ?it/s]"
      ]
     },
     "metadata": {},
     "output_type": "display_data"
    },
    {
     "data": {
      "application/vnd.jupyter.widget-view+json": {
       "model_id": "",
       "version_major": 2,
       "version_minor": 0
      },
      "text/plain": [
       "Validating: 0it [00:00, ?it/s]"
      ]
     },
     "metadata": {},
     "output_type": "display_data"
    },
    {
     "data": {
      "application/vnd.jupyter.widget-view+json": {
       "model_id": "",
       "version_major": 2,
       "version_minor": 0
      },
      "text/plain": [
       "Validating: 0it [00:00, ?it/s]"
      ]
     },
     "metadata": {},
     "output_type": "display_data"
    },
    {
     "name": "stdout",
     "output_type": "stream",
     "text": [
      "CPU times: user 1h 49min 51s, sys: 16min 42s, total: 2h 6min 34s\n",
      "Wall time: 1h 59min 24s\n"
     ]
    }
   ],
   "source": [
    "%%time\n",
    "\n",
    "trainer.fit(trx_model, dm)"
   ]
  },
  {
   "cell_type": "code",
   "execution_count": 19,
   "id": "81ba1d80",
   "metadata": {},
   "outputs": [
    {
     "name": "stderr",
     "output_type": "stream",
     "text": [
      "22533it [00:00, 22981.65it/s]\n",
      "                                                                                                                                        "
     ]
    },
    {
     "name": "stdout",
     "output_type": "stream",
     "text": [
      "CPU times: user 34.1 s, sys: 13.3 s, total: 47.4 s\n",
      "Wall time: 44.6 s\n"
     ]
    },
    {
     "name": "stderr",
     "output_type": "stream",
     "text": [
      "\r"
     ]
    }
   ],
   "source": [
    "%%time\n",
    "\n",
    "trx_embeds = get_embeddings(\n",
    "    data=trx_dataset,\n",
    "    model=trx_model, \n",
    "    category_names = trx_model.seq_encoder.category_names,\n",
    "    category_max_size = trx_model.seq_encoder.category_max_size,\n",
    ")"
   ]
  },
  {
   "cell_type": "code",
   "execution_count": 20,
   "id": "0c7af95a",
   "metadata": {},
   "outputs": [
    {
     "data": {
      "text/html": [
       "<div>\n",
       "<style scoped>\n",
       "    .dataframe tbody tr th:only-of-type {\n",
       "        vertical-align: middle;\n",
       "    }\n",
       "\n",
       "    .dataframe tbody tr th {\n",
       "        vertical-align: top;\n",
       "    }\n",
       "\n",
       "    .dataframe thead th {\n",
       "        text-align: right;\n",
       "    }\n",
       "</style>\n",
       "<table border=\"1\" class=\"dataframe\">\n",
       "  <thead>\n",
       "    <tr style=\"text-align: right;\">\n",
       "      <th></th>\n",
       "      <th>embed_0</th>\n",
       "      <th>embed_1</th>\n",
       "      <th>embed_2</th>\n",
       "      <th>embed_3</th>\n",
       "      <th>embed_4</th>\n",
       "      <th>embed_5</th>\n",
       "      <th>embed_6</th>\n",
       "      <th>embed_7</th>\n",
       "      <th>embed_8</th>\n",
       "      <th>embed_9</th>\n",
       "      <th>...</th>\n",
       "      <th>embed_503</th>\n",
       "      <th>embed_504</th>\n",
       "      <th>embed_505</th>\n",
       "      <th>embed_506</th>\n",
       "      <th>embed_507</th>\n",
       "      <th>embed_508</th>\n",
       "      <th>embed_509</th>\n",
       "      <th>embed_510</th>\n",
       "      <th>embed_511</th>\n",
       "      <th>user_id</th>\n",
       "    </tr>\n",
       "  </thead>\n",
       "  <tbody>\n",
       "    <tr>\n",
       "      <th>0</th>\n",
       "      <td>0.091485</td>\n",
       "      <td>-0.108873</td>\n",
       "      <td>0.013094</td>\n",
       "      <td>-0.974434</td>\n",
       "      <td>0.027217</td>\n",
       "      <td>-0.991314</td>\n",
       "      <td>-0.134523</td>\n",
       "      <td>-0.204748</td>\n",
       "      <td>-0.052441</td>\n",
       "      <td>-0.120273</td>\n",
       "      <td>...</td>\n",
       "      <td>0.168270</td>\n",
       "      <td>-0.088596</td>\n",
       "      <td>-0.097166</td>\n",
       "      <td>-0.692475</td>\n",
       "      <td>-0.266089</td>\n",
       "      <td>0.043477</td>\n",
       "      <td>-0.061554</td>\n",
       "      <td>-0.120555</td>\n",
       "      <td>0.989126</td>\n",
       "      <td>000932580e404dafbecd5916d4640938</td>\n",
       "    </tr>\n",
       "    <tr>\n",
       "      <th>1</th>\n",
       "      <td>-0.102059</td>\n",
       "      <td>0.132161</td>\n",
       "      <td>0.036850</td>\n",
       "      <td>-0.786810</td>\n",
       "      <td>-0.005040</td>\n",
       "      <td>-0.914710</td>\n",
       "      <td>-0.021032</td>\n",
       "      <td>-0.029007</td>\n",
       "      <td>-0.030026</td>\n",
       "      <td>-0.064974</td>\n",
       "      <td>...</td>\n",
       "      <td>-0.059505</td>\n",
       "      <td>-0.011978</td>\n",
       "      <td>-0.078693</td>\n",
       "      <td>-0.703464</td>\n",
       "      <td>0.327630</td>\n",
       "      <td>0.209434</td>\n",
       "      <td>-0.068717</td>\n",
       "      <td>-0.069901</td>\n",
       "      <td>0.908692</td>\n",
       "      <td>0009e36b42cb4caeb928a1e596819495</td>\n",
       "    </tr>\n",
       "    <tr>\n",
       "      <th>2</th>\n",
       "      <td>-0.248740</td>\n",
       "      <td>0.028777</td>\n",
       "      <td>0.037218</td>\n",
       "      <td>-0.839403</td>\n",
       "      <td>0.022314</td>\n",
       "      <td>-0.842904</td>\n",
       "      <td>0.123170</td>\n",
       "      <td>-0.347696</td>\n",
       "      <td>-0.019317</td>\n",
       "      <td>-0.070692</td>\n",
       "      <td>...</td>\n",
       "      <td>0.030039</td>\n",
       "      <td>0.096777</td>\n",
       "      <td>-0.062801</td>\n",
       "      <td>-0.764950</td>\n",
       "      <td>0.072273</td>\n",
       "      <td>-0.243047</td>\n",
       "      <td>-0.092489</td>\n",
       "      <td>-0.115780</td>\n",
       "      <td>0.924572</td>\n",
       "      <td>000b29acb6bd44f99473c1be5ca28f3c</td>\n",
       "    </tr>\n",
       "    <tr>\n",
       "      <th>3</th>\n",
       "      <td>0.049751</td>\n",
       "      <td>-0.029269</td>\n",
       "      <td>-0.237105</td>\n",
       "      <td>-0.908472</td>\n",
       "      <td>0.013908</td>\n",
       "      <td>-0.864875</td>\n",
       "      <td>0.415273</td>\n",
       "      <td>0.070509</td>\n",
       "      <td>-0.046024</td>\n",
       "      <td>-0.065222</td>\n",
       "      <td>...</td>\n",
       "      <td>-0.117661</td>\n",
       "      <td>0.029074</td>\n",
       "      <td>-0.083489</td>\n",
       "      <td>-0.659068</td>\n",
       "      <td>-0.231286</td>\n",
       "      <td>-0.246806</td>\n",
       "      <td>0.032731</td>\n",
       "      <td>-0.077745</td>\n",
       "      <td>0.949100</td>\n",
       "      <td>000c5327d99941fe934169838c65b92c</td>\n",
       "    </tr>\n",
       "    <tr>\n",
       "      <th>4</th>\n",
       "      <td>0.007169</td>\n",
       "      <td>0.148923</td>\n",
       "      <td>-0.054209</td>\n",
       "      <td>-0.849948</td>\n",
       "      <td>0.188024</td>\n",
       "      <td>-0.928779</td>\n",
       "      <td>0.121365</td>\n",
       "      <td>0.422354</td>\n",
       "      <td>-0.068434</td>\n",
       "      <td>-0.012294</td>\n",
       "      <td>...</td>\n",
       "      <td>0.056693</td>\n",
       "      <td>-0.098841</td>\n",
       "      <td>-0.071631</td>\n",
       "      <td>-0.659489</td>\n",
       "      <td>-0.001195</td>\n",
       "      <td>-0.261585</td>\n",
       "      <td>-0.123028</td>\n",
       "      <td>-0.047159</td>\n",
       "      <td>0.934825</td>\n",
       "      <td>000e0d54d7c945ebb8f6f855972e8396</td>\n",
       "    </tr>\n",
       "  </tbody>\n",
       "</table>\n",
       "<p>5 rows × 513 columns</p>\n",
       "</div>"
      ],
      "text/plain": [
       "    embed_0   embed_1   embed_2   embed_3   embed_4   embed_5   embed_6  \\\n",
       "0  0.091485 -0.108873  0.013094 -0.974434  0.027217 -0.991314 -0.134523   \n",
       "1 -0.102059  0.132161  0.036850 -0.786810 -0.005040 -0.914710 -0.021032   \n",
       "2 -0.248740  0.028777  0.037218 -0.839403  0.022314 -0.842904  0.123170   \n",
       "3  0.049751 -0.029269 -0.237105 -0.908472  0.013908 -0.864875  0.415273   \n",
       "4  0.007169  0.148923 -0.054209 -0.849948  0.188024 -0.928779  0.121365   \n",
       "\n",
       "    embed_7   embed_8   embed_9  ...  embed_503  embed_504  embed_505  \\\n",
       "0 -0.204748 -0.052441 -0.120273  ...   0.168270  -0.088596  -0.097166   \n",
       "1 -0.029007 -0.030026 -0.064974  ...  -0.059505  -0.011978  -0.078693   \n",
       "2 -0.347696 -0.019317 -0.070692  ...   0.030039   0.096777  -0.062801   \n",
       "3  0.070509 -0.046024 -0.065222  ...  -0.117661   0.029074  -0.083489   \n",
       "4  0.422354 -0.068434 -0.012294  ...   0.056693  -0.098841  -0.071631   \n",
       "\n",
       "   embed_506  embed_507  embed_508  embed_509  embed_510  embed_511  \\\n",
       "0  -0.692475  -0.266089   0.043477  -0.061554  -0.120555   0.989126   \n",
       "1  -0.703464   0.327630   0.209434  -0.068717  -0.069901   0.908692   \n",
       "2  -0.764950   0.072273  -0.243047  -0.092489  -0.115780   0.924572   \n",
       "3  -0.659068  -0.231286  -0.246806   0.032731  -0.077745   0.949100   \n",
       "4  -0.659489  -0.001195  -0.261585  -0.123028  -0.047159   0.934825   \n",
       "\n",
       "                            user_id  \n",
       "0  000932580e404dafbecd5916d4640938  \n",
       "1  0009e36b42cb4caeb928a1e596819495  \n",
       "2  000b29acb6bd44f99473c1be5ca28f3c  \n",
       "3  000c5327d99941fe934169838c65b92c  \n",
       "4  000e0d54d7c945ebb8f6f855972e8396  \n",
       "\n",
       "[5 rows x 513 columns]"
      ]
     },
     "execution_count": 20,
     "metadata": {},
     "output_type": "execute_result"
    }
   ],
   "source": [
    "trx_embeds_df = pd.DataFrame(data=trx_embeds, columns=[f'embed_{i}' for i in range(trx_embeds.shape[1])])\n",
    "trx_embeds_df['user_id'] = [x['user_id'] for x in trx_dataset]\n",
    "\n",
    "trx_embeds_df.head()"
   ]
  },
  {
   "cell_type": "code",
   "execution_count": 21,
   "id": "86488cdd",
   "metadata": {},
   "outputs": [],
   "source": [
    "df_trx_train = pd.merge(df_trx_train, trx_embeds_df, on='user_id', how='left')\n",
    "df_trx_valid = pd.merge(df_trx_valid, trx_embeds_df, on='user_id', how='left')\n",
    "df_trx_test = pd.merge(df_trx_test, trx_embeds_df, on='user_id', how='left')"
   ]
  },
  {
   "cell_type": "code",
   "execution_count": null,
   "id": "91cd1b49",
   "metadata": {},
   "outputs": [],
   "source": []
  },
  {
   "cell_type": "markdown",
   "id": "5a38a3d7",
   "metadata": {},
   "source": [
    "### lightgbm model "
   ]
  },
  {
   "cell_type": "code",
   "execution_count": 22,
   "id": "2ec1d08a",
   "metadata": {},
   "outputs": [
    {
     "data": {
      "text/plain": [
       "((234420, 2075), (58600, 2075))"
      ]
     },
     "execution_count": 22,
     "metadata": {},
     "output_type": "execute_result"
    }
   ],
   "source": [
    "def prepare_dataset(df_matching, df_trx, df_click, neg_count=19):\n",
    "    positive = pd.merge(df_matching, df_trx, left_on='bank', right_on='user_id').drop(columns='user_id')\n",
    "    positive = pd.merge(positive, df_click, left_on='rtk', right_on='user_id').drop(columns='user_id')\n",
    "    positive['target'] = 1\n",
    "\n",
    "    rtks = df_click['user_id'].unique()\n",
    "\n",
    "    negative = pd.DataFrame(data=df_trx['user_id'].values, columns=['bank'])\n",
    "    negative['rtk'] = negative['bank'].apply(lambda x: np.random.choice(rtks, size=neg_count))\n",
    "    negative = negative.explode('rtk')\n",
    "\n",
    "    negative = pd.merge(negative, df_trx, left_on='bank', right_on='user_id').drop(columns='user_id')\n",
    "    negative = pd.merge(negative, df_click, left_on='rtk', right_on='user_id').drop(columns='user_id')\n",
    "    negative['target'] = 0\n",
    "\n",
    "    dataset = pd.concat([positive, negative]).sample(frac=1)\n",
    "\n",
    "    return dataset\n",
    "\n",
    "\n",
    "train = prepare_dataset(df_matching_train, df_trx_train, df_click_train)\n",
    "valid = prepare_dataset(df_matching_valid, df_trx_valid, df_click_valid)\n",
    "\n",
    "train.shape, valid.shape"
   ]
  },
  {
   "cell_type": "code",
   "execution_count": 31,
   "id": "38ad57da",
   "metadata": {},
   "outputs": [
    {
     "name": "stdout",
     "output_type": "stream",
     "text": [
      "CPU times: user 364 µs, sys: 56 µs, total: 420 µs\n",
      "Wall time: 422 µs\n"
     ]
    }
   ],
   "source": [
    "from sklearn.metrics import roc_auc_score\n",
    "\n",
    "import lightgbm as lgb\n",
    "\n",
    "drop_columns = ['bank', 'rtk', 'target'] + [x for x in train.columns if x.startswith('sum') or x.startswith('mean') or x.startswith('count')]"
   ]
  },
  {
   "cell_type": "code",
   "execution_count": 32,
   "id": "2ac2a8e2",
   "metadata": {},
   "outputs": [
    {
     "name": "stderr",
     "output_type": "stream",
     "text": [
      "/home/nikita/.local/share/virtualenvs/pytorch-lifestream-VR0LSEAW/lib/python3.8/site-packages/lightgbm/engine.py:148: UserWarning: Found `n_estimators` in params. Will use it instead of argument\n",
      "  _log_warning(\"Found `{}` in params. Will use it instead of argument\".format(alias))\n",
      "/home/nikita/.local/share/virtualenvs/pytorch-lifestream-VR0LSEAW/lib/python3.8/site-packages/lightgbm/basic.py:1702: UserWarning: Using categorical_feature in Dataset.\n",
      "  _log_warning('Using categorical_feature in Dataset.')\n"
     ]
    },
    {
     "name": "stdout",
     "output_type": "stream",
     "text": [
      "[50]\ttraining's auc: 0.844574\tvalid_1's auc: 0.69471\n",
      "[100]\ttraining's auc: 0.875435\tvalid_1's auc: 0.70674\n",
      "[150]\ttraining's auc: 0.896083\tvalid_1's auc: 0.715934\n",
      "[200]\ttraining's auc: 0.912544\tvalid_1's auc: 0.721987\n",
      "[250]\ttraining's auc: 0.924382\tvalid_1's auc: 0.726813\n",
      "[300]\ttraining's auc: 0.935556\tvalid_1's auc: 0.730088\n",
      "[350]\ttraining's auc: 0.944913\tvalid_1's auc: 0.733088\n",
      "[400]\ttraining's auc: 0.954174\tvalid_1's auc: 0.737374\n",
      "[450]\ttraining's auc: 0.961273\tvalid_1's auc: 0.740113\n",
      "[500]\ttraining's auc: 0.967675\tvalid_1's auc: 0.744369\n",
      "[550]\ttraining's auc: 0.972823\tvalid_1's auc: 0.747115\n",
      "[600]\ttraining's auc: 0.976875\tvalid_1's auc: 0.749951\n",
      "[650]\ttraining's auc: 0.980234\tvalid_1's auc: 0.751574\n",
      "[700]\ttraining's auc: 0.982842\tvalid_1's auc: 0.75308\n",
      "[750]\ttraining's auc: 0.985027\tvalid_1's auc: 0.75465\n",
      "[800]\ttraining's auc: 0.986965\tvalid_1's auc: 0.756153\n",
      "[850]\ttraining's auc: 0.988725\tvalid_1's auc: 0.758136\n",
      "[900]\ttraining's auc: 0.990194\tvalid_1's auc: 0.759054\n",
      "[950]\ttraining's auc: 0.991517\tvalid_1's auc: 0.760233\n",
      "[1000]\ttraining's auc: 0.992512\tvalid_1's auc: 0.761233\n",
      "[1050]\ttraining's auc: 0.993397\tvalid_1's auc: 0.762647\n",
      "[1100]\ttraining's auc: 0.994081\tvalid_1's auc: 0.763838\n",
      "[1150]\ttraining's auc: 0.994736\tvalid_1's auc: 0.764615\n",
      "[1200]\ttraining's auc: 0.995315\tvalid_1's auc: 0.765339\n",
      "[1250]\ttraining's auc: 0.995863\tvalid_1's auc: 0.76603\n",
      "[1300]\ttraining's auc: 0.996337\tvalid_1's auc: 0.766739\n",
      "[1350]\ttraining's auc: 0.996765\tvalid_1's auc: 0.767196\n",
      "[1400]\ttraining's auc: 0.997139\tvalid_1's auc: 0.767502\n",
      "[1450]\ttraining's auc: 0.997455\tvalid_1's auc: 0.76807\n",
      "[1500]\ttraining's auc: 0.997711\tvalid_1's auc: 0.768323\n",
      "[1550]\ttraining's auc: 0.997983\tvalid_1's auc: 0.768947\n",
      "[1600]\ttraining's auc: 0.9982\tvalid_1's auc: 0.769668\n",
      "[1650]\ttraining's auc: 0.998397\tvalid_1's auc: 0.770179\n",
      "[1700]\ttraining's auc: 0.998552\tvalid_1's auc: 0.770406\n",
      "[1750]\ttraining's auc: 0.998705\tvalid_1's auc: 0.771116\n",
      "[1800]\ttraining's auc: 0.998852\tvalid_1's auc: 0.771282\n",
      "[1850]\ttraining's auc: 0.99898\tvalid_1's auc: 0.771503\n",
      "[1900]\ttraining's auc: 0.999074\tvalid_1's auc: 0.771754\n",
      "[1950]\ttraining's auc: 0.999173\tvalid_1's auc: 0.772045\n",
      "[2000]\ttraining's auc: 0.99926\tvalid_1's auc: 0.772197\n",
      "[2050]\ttraining's auc: 0.999335\tvalid_1's auc: 0.772583\n",
      "[2100]\ttraining's auc: 0.999402\tvalid_1's auc: 0.77284\n",
      "[2150]\ttraining's auc: 0.999453\tvalid_1's auc: 0.772836\n",
      "[2200]\ttraining's auc: 0.999502\tvalid_1's auc: 0.772734\n",
      "[2250]\ttraining's auc: 0.99955\tvalid_1's auc: 0.772874\n",
      "[2300]\ttraining's auc: 0.999592\tvalid_1's auc: 0.773139\n",
      "[2350]\ttraining's auc: 0.999627\tvalid_1's auc: 0.773448\n",
      "[2400]\ttraining's auc: 0.999659\tvalid_1's auc: 0.773685\n",
      "[2450]\ttraining's auc: 0.999688\tvalid_1's auc: 0.77392\n",
      "[2500]\ttraining's auc: 0.999715\tvalid_1's auc: 0.774336\n",
      "[2550]\ttraining's auc: 0.999735\tvalid_1's auc: 0.77459\n",
      "[2600]\ttraining's auc: 0.999754\tvalid_1's auc: 0.774785\n",
      "[2650]\ttraining's auc: 0.999771\tvalid_1's auc: 0.774689\n",
      "[2700]\ttraining's auc: 0.999788\tvalid_1's auc: 0.774747\n",
      "[2750]\ttraining's auc: 0.999801\tvalid_1's auc: 0.774886\n",
      "[2800]\ttraining's auc: 0.999812\tvalid_1's auc: 0.775109\n",
      "[2850]\ttraining's auc: 0.999823\tvalid_1's auc: 0.775302\n",
      "[2900]\ttraining's auc: 0.999832\tvalid_1's auc: 0.775432\n",
      "[2950]\ttraining's auc: 0.99984\tvalid_1's auc: 0.775526\n",
      "[3000]\ttraining's auc: 0.999847\tvalid_1's auc: 0.77539\n",
      "[3050]\ttraining's auc: 0.999855\tvalid_1's auc: 0.775254\n",
      "[3100]\ttraining's auc: 0.999861\tvalid_1's auc: 0.775288\n",
      "[3150]\ttraining's auc: 0.999867\tvalid_1's auc: 0.775499\n",
      "[3200]\ttraining's auc: 0.999872\tvalid_1's auc: 0.775594\n",
      "[3250]\ttraining's auc: 0.999878\tvalid_1's auc: 0.77555\n",
      "[3300]\ttraining's auc: 0.999882\tvalid_1's auc: 0.775902\n",
      "[3350]\ttraining's auc: 0.999886\tvalid_1's auc: 0.775916\n",
      "[3400]\ttraining's auc: 0.99989\tvalid_1's auc: 0.776018\n",
      "[3450]\ttraining's auc: 0.999893\tvalid_1's auc: 0.775972\n",
      "[3500]\ttraining's auc: 0.999897\tvalid_1's auc: 0.776018\n",
      "[3550]\ttraining's auc: 0.999899\tvalid_1's auc: 0.776137\n",
      "[3600]\ttraining's auc: 0.999903\tvalid_1's auc: 0.776287\n",
      "[3650]\ttraining's auc: 0.999906\tvalid_1's auc: 0.776419\n",
      "[3700]\ttraining's auc: 0.999909\tvalid_1's auc: 0.77662\n",
      "[3750]\ttraining's auc: 0.999912\tvalid_1's auc: 0.776642\n",
      "[3800]\ttraining's auc: 0.999914\tvalid_1's auc: 0.776615\n",
      "[3850]\ttraining's auc: 0.999917\tvalid_1's auc: 0.776803\n",
      "[3900]\ttraining's auc: 0.999919\tvalid_1's auc: 0.776757\n",
      "[3950]\ttraining's auc: 0.999922\tvalid_1's auc: 0.776792\n",
      "[4000]\ttraining's auc: 0.999925\tvalid_1's auc: 0.776707\n",
      "[4050]\ttraining's auc: 0.999928\tvalid_1's auc: 0.776795\n",
      "[4100]\ttraining's auc: 0.999931\tvalid_1's auc: 0.777031\n",
      "[4150]\ttraining's auc: 0.999934\tvalid_1's auc: 0.777046\n",
      "[4200]\ttraining's auc: 0.999937\tvalid_1's auc: 0.777077\n",
      "[4250]\ttraining's auc: 0.99994\tvalid_1's auc: 0.777286\n",
      "[4300]\ttraining's auc: 0.999942\tvalid_1's auc: 0.777355\n",
      "[4350]\ttraining's auc: 0.999944\tvalid_1's auc: 0.777324\n",
      "[4400]\ttraining's auc: 0.999947\tvalid_1's auc: 0.777275\n",
      "[4450]\ttraining's auc: 0.999949\tvalid_1's auc: 0.777546\n",
      "[4500]\ttraining's auc: 0.999952\tvalid_1's auc: 0.777555\n",
      "[4550]\ttraining's auc: 0.999955\tvalid_1's auc: 0.77752\n",
      "[4600]\ttraining's auc: 0.999958\tvalid_1's auc: 0.777392\n",
      "[4650]\ttraining's auc: 0.999961\tvalid_1's auc: 0.777438\n",
      "[4700]\ttraining's auc: 0.999964\tvalid_1's auc: 0.777581\n",
      "[4750]\ttraining's auc: 0.999966\tvalid_1's auc: 0.777719\n",
      "[4800]\ttraining's auc: 0.999968\tvalid_1's auc: 0.777786\n",
      "[4850]\ttraining's auc: 0.99997\tvalid_1's auc: 0.777878\n",
      "[4900]\ttraining's auc: 0.999973\tvalid_1's auc: 0.777936\n",
      "[4950]\ttraining's auc: 0.999975\tvalid_1's auc: 0.777923\n",
      "[5000]\ttraining's auc: 0.999977\tvalid_1's auc: 0.777976\n",
      "0.778\n"
     ]
    }
   ],
   "source": [
    "%%time\n",
    "\n",
    "TARGET = 'target'\n",
    "CAT_FEATURES = []\n",
    "\n",
    "params = dict(\n",
    "    objective='binary',\n",
    "    metric='auc',\n",
    "    n_estimators=5000,\n",
    "    boosting_type='gbdt',\n",
    "    learning_rate=0.01,\n",
    "    subsample=0.75,\n",
    "    subsample_freq=1,\n",
    "    feature_fraction=0.75,\n",
    "    max_depth=8,\n",
    "    lambda_l1=0.5,\n",
    "    lambda_l2=0.5,\n",
    "    num_leaves=128,\n",
    "    random_state=42,\n",
    "    verbose=-1\n",
    ")\n",
    "\n",
    "train_data = lgb.Dataset(train.drop(columns=drop_columns),\n",
    "                                 label=train[TARGET],\n",
    "                                 categorical_feature=CAT_FEATURES)\n",
    "\n",
    "valid_data = lgb.Dataset(valid.drop(columns=drop_columns),\n",
    "                         label=valid[TARGET],\n",
    "                         categorical_feature=CAT_FEATURES)\n",
    "\n",
    "lgb_model = lgb.train(params, train_data, valid_sets=[train_data, valid_data], verbose_eval=50)\n",
    "preds = lgb_model.predict(valid.drop(columns=drop_columns))\n",
    "\n",
    "metric_value = roc_auc_score(valid[TARGET], preds)\n",
    "print(round(metric_value, 4))"
   ]
  },
  {
   "cell_type": "code",
   "execution_count": null,
   "id": "bc2a9995",
   "metadata": {},
   "outputs": [],
   "source": []
  },
  {
   "cell_type": "code",
   "execution_count": null,
   "id": "8df1af3b",
   "metadata": {},
   "outputs": [],
   "source": []
  },
  {
   "cell_type": "markdown",
   "id": "9b3cfd61",
   "metadata": {},
   "source": [
    "### Inference "
   ]
  },
  {
   "cell_type": "code",
   "execution_count": 24,
   "id": "648979d1",
   "metadata": {},
   "outputs": [],
   "source": [
    "df_trx_valid.set_index('user_id', inplace=True)\n",
    "df_click_valid.set_index('user_id', inplace=True)\n",
    "df_matching_valid.set_index('bank', inplace=True)"
   ]
  },
  {
   "cell_type": "code",
   "execution_count": 25,
   "id": "501e0751",
   "metadata": {},
   "outputs": [],
   "source": [
    "def inference(df_trx, df_click, model, model_features, batch_size=100):\n",
    "\n",
    "    list_of_rtk = list(df_click.index.unique())\n",
    "    list_of_bank = list(df_trx.index.unique())\n",
    "\n",
    "    submission = pd.DataFrame(list_of_bank, columns=['bank'])\n",
    "    submission['rtk'] = submission['bank'].apply(lambda x: list_of_rtk)\n",
    "\n",
    "    num_of_batches = int((len(list_of_bank))/batch_size)+1\n",
    "    submission_ready = []\n",
    "\n",
    "    for i in range(num_of_batches):\n",
    "        bank_ids = list_of_bank[(i*batch_size):((i+1)*batch_size)]\n",
    "        if len(bank_ids) != 0:\n",
    "            part_of_submit = submission[submission['bank'].isin(bank_ids)].explode('rtk')\n",
    "            part_of_submit = part_of_submit.merge(df_trx, how='left', left_on='bank', right_index=True\n",
    "                                        ).merge(df_click, how='left', left_on='rtk', right_index=True).fillna(0)\n",
    "\n",
    "            for feature in model_features:\n",
    "                if feature not in part_of_submit.columns:\n",
    "                    part_of_submit[i] = 0\n",
    "\n",
    "            part_of_submit['predicts'] = model.predict(part_of_submit[model_features])\n",
    "            part_of_submit = part_of_submit[['bank', 'rtk', 'predicts']]\n",
    "\n",
    "            part_of_submit = part_of_submit.sort_values(by=['bank', 'predicts'], ascending=False).reset_index(drop=True)\n",
    "            part_of_submit = part_of_submit.pivot_table(index='bank', values='rtk', aggfunc=list)\n",
    "            part_of_submit['rtk'] = part_of_submit['rtk'].apply(lambda x: x[:100])\n",
    "            part_of_submit['bank'] = part_of_submit.index\n",
    "            part_of_submit = part_of_submit[['bank', 'rtk']]\n",
    "            submission_ready.extend(part_of_submit.values)\n",
    "\n",
    "    submission_final = np.array(submission_ready, dtype=object)\n",
    "    return submission_final"
   ]
  },
  {
   "cell_type": "code",
   "execution_count": 33,
   "id": "8f111a92",
   "metadata": {},
   "outputs": [
    {
     "name": "stdout",
     "output_type": "stream",
     "text": [
      "CPU times: user 1h 32min 13s, sys: 38.9 s, total: 1h 32min 52s\n",
      "Wall time: 13min 4s\n"
     ]
    }
   ],
   "source": [
    "%%time\n",
    "\n",
    "preds = inference(df_trx_valid, df_click_valid, lgb_model, lgb_model.feature_name())"
   ]
  },
  {
   "cell_type": "code",
   "execution_count": 34,
   "id": "a5f48926",
   "metadata": {},
   "outputs": [
    {
     "name": "stdout",
     "output_type": "stream",
     "text": [
      "pre: 0.344, mrr: 0.174, r1: 0.231\n",
      "CPU times: user 103 ms, sys: 0 ns, total: 103 ms\n",
      "Wall time: 102 ms\n"
     ]
    }
   ],
   "source": [
    "%%time\n",
    "\n",
    "def score(preds, matching):\n",
    "    pre = 0.0\n",
    "    mrr = 0.0\n",
    "\n",
    "    for ix_bank, pred in preds:\n",
    "        match = matching.loc[ix_bank]['rtk']\n",
    "        d = match in pred\n",
    "        if d:\n",
    "            pre += 1\n",
    "            mrr += 1 / (1 + pred.index(match))\n",
    "\n",
    "    pre /= len(preds)\n",
    "    mrr /= len(preds)\n",
    "    r1 = 2 * pre * mrr / (pre + mrr)\n",
    "\n",
    "    return pre, mrr, r1\n",
    "\n",
    "pre, mrr, r1 = score(preds, df_matching_valid)\n",
    "\n",
    "print(f'pre: {pre:.3f}, mrr: {mrr:.3f}, r1: {r1:.3f}')"
   ]
  },
  {
   "cell_type": "code",
   "execution_count": null,
   "id": "016634c7",
   "metadata": {},
   "outputs": [],
   "source": []
  },
  {
   "cell_type": "code",
   "execution_count": null,
   "id": "d536adf6",
   "metadata": {},
   "outputs": [],
   "source": []
  }
 ],
 "metadata": {
  "kernelspec": {
   "display_name": "Python 3 (ipykernel)",
   "language": "python",
   "name": "python3"
  },
  "language_info": {
   "codemirror_mode": {
    "name": "ipython",
    "version": 3
   },
   "file_extension": ".py",
   "mimetype": "text/x-python",
   "name": "python",
   "nbconvert_exporter": "python",
   "pygments_lexer": "ipython3",
   "version": "3.8.10"
  }
 },
 "nbformat": 4,
 "nbformat_minor": 5
}
