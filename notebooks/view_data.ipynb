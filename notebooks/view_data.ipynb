{
 "cells": [
  {
   "cell_type": "code",
   "execution_count": 1,
   "id": "neural-edition",
   "metadata": {},
   "outputs": [
    {
     "name": "stdout",
     "output_type": "stream",
     "text": [
      "/mnt/kireev/pycharm-deploy/vtb\n"
     ]
    }
   ],
   "source": [
    "%cd ../"
   ]
  },
  {
   "cell_type": "code",
   "execution_count": 2,
   "id": "abandoned-submission",
   "metadata": {},
   "outputs": [],
   "source": [
    "from zipfile import ZipFile"
   ]
  },
  {
   "cell_type": "code",
   "execution_count": 3,
   "id": "artificial-spanking",
   "metadata": {},
   "outputs": [],
   "source": [
    "from IPython.display import display\n",
    "\n",
    "import numpy as np\n",
    "import pandas as pd\n",
    "\n",
    "import matplotlib.pyplot as plt"
   ]
  },
  {
   "cell_type": "code",
   "execution_count": 4,
   "id": "finished-niagara",
   "metadata": {},
   "outputs": [],
   "source": [
    "from sklearn.preprocessing import OneHotEncoder"
   ]
  },
  {
   "cell_type": "code",
   "execution_count": 34,
   "id": "corresponding-failing",
   "metadata": {},
   "outputs": [],
   "source": [
    "import random"
   ]
  },
  {
   "cell_type": "code",
   "execution_count": null,
   "id": "national-emission",
   "metadata": {},
   "outputs": [],
   "source": []
  },
  {
   "cell_type": "code",
   "execution_count": null,
   "id": "configured-toilet",
   "metadata": {},
   "outputs": [],
   "source": []
  },
  {
   "cell_type": "code",
   "execution_count": 5,
   "id": "uniform-knight",
   "metadata": {},
   "outputs": [
    {
     "name": "stdout",
     "output_type": "stream",
     "text": [
      "total 7787360\r\n",
      "drwxr-xr-x 2 ivan sudo       4096 Feb 17 09:37 baseline_catboost\r\n",
      "-rw-r--r-- 1 ivan sudo     197430 Feb 17 08:59 baseline_catboost.zip\r\n",
      "-rw-r--r-- 1 ivan sudo      13035 Feb 17 09:22 click_categories.csv\r\n",
      "-rw-r--r-- 1 ivan sudo  492816210 Feb 17 08:59 clickstream.zip\r\n",
      "-rw-r--r-- 1 ivan sudo  973689909 Feb 18 08:23 clickstream_0.csv\r\n",
      "-rw-r--r-- 1 ivan sudo 1087645906 Feb 18 08:24 clickstream_1.csv\r\n",
      "-rw-r--r-- 1 ivan sudo 1084009490 Feb 18 08:25 clickstream_2.csv\r\n",
      "-rw-r--r-- 1 ivan sudo 1012747736 Feb 18 08:25 clickstream_3.csv\r\n",
      "-rw-r--r-- 1 ivan sudo  967169624 Feb 18 08:26 clickstream_4.csv\r\n",
      "-rw-r--r-- 1 ivan sudo  976392489 Feb 18 08:27 clickstream_5.csv\r\n",
      "-rw-r--r-- 1 ivan sudo         38 Feb 17 08:59 currency_rk.csv\r\n",
      "-rw-r--r-- 1 ivan sudo     200290 Feb 17 08:59 mcc_codes.csv\r\n",
      "drwxr-xr-x 3 ivan sudo       4096 Feb 17 09:36 sample_submission\r\n",
      "-rw-r--r-- 1 ivan sudo       1390 Feb 17 08:59 sample_submission.zip\r\n",
      "-rw-r--r-- 1 ivan sudo    1070145 Feb 17 09:25 train_matching.csv\r\n",
      "-rw-r--r-- 1 ivan sudo     178420 Feb 18 08:22 train_matching_0.csv\r\n",
      "-rw-r--r-- 1 ivan sudo     178354 Feb 18 08:23 train_matching_1.csv\r\n",
      "-rw-r--r-- 1 ivan sudo     178354 Feb 18 08:24 train_matching_2.csv\r\n",
      "-rw-r--r-- 1 ivan sudo     178354 Feb 18 08:25 train_matching_3.csv\r\n",
      "-rw-r--r-- 1 ivan sudo     178354 Feb 18 08:25 train_matching_4.csv\r\n",
      "-rw-r--r-- 1 ivan sudo     178354 Feb 18 08:26 train_matching_5.csv\r\n",
      "-rw-r--r-- 1 ivan sudo  262900158 Feb 17 08:59 transactions.zip\r\n",
      "-rw-r--r-- 1 ivan sudo  185627979 Feb 18 08:22 transactions_0.csv\r\n",
      "-rw-r--r-- 1 ivan sudo  186433071 Feb 18 08:23 transactions_1.csv\r\n",
      "-rw-r--r-- 1 ivan sudo  186144089 Feb 18 08:24 transactions_2.csv\r\n",
      "-rw-r--r-- 1 ivan sudo  185353279 Feb 18 08:25 transactions_3.csv\r\n",
      "-rw-r--r-- 1 ivan sudo  185922754 Feb 18 08:26 transactions_4.csv\r\n",
      "-rw-r--r-- 1 ivan sudo  184751428 Feb 18 08:26 transactions_5.csv\r\n"
     ]
    }
   ],
   "source": [
    "!ls -l data"
   ]
  },
  {
   "cell_type": "code",
   "execution_count": 6,
   "id": "apart-edwards",
   "metadata": {},
   "outputs": [
    {
     "name": "stdout",
     "output_type": "stream",
     "text": [
      "       403 data/click_categories.csv\n",
      "  15124894 data/clickstream_0.csv\n",
      "  16898084 data/clickstream_1.csv\n",
      "  16838663 data/clickstream_2.csv\n",
      "  15739401 data/clickstream_3.csv\n",
      "  15029892 data/clickstream_4.csv\n",
      "  15165619 data/clickstream_5.csv\n",
      "         4 data/currency_rk.csv\n",
      "       600 data/mcc_codes.csv\n",
      "     17582 data/train_matching.csv\n",
      "      2932 data/train_matching_0.csv\n",
      "      2931 data/train_matching_1.csv\n",
      "      2931 data/train_matching_2.csv\n",
      "      2931 data/train_matching_3.csv\n",
      "      2931 data/train_matching_4.csv\n",
      "      2931 data/train_matching_5.csv\n",
      "   2572366 data/transactions_0.csv\n",
      "   2583450 data/transactions_1.csv\n",
      "   2579527 data/transactions_2.csv\n",
      "   2568465 data/transactions_3.csv\n",
      "   2576773 data/transactions_4.csv\n",
      "   2559993 data/transactions_5.csv\n",
      " 110273303 total\n"
     ]
    }
   ],
   "source": [
    "!wc -l data/*.csv"
   ]
  },
  {
   "cell_type": "code",
   "execution_count": null,
   "id": "short-broadcast",
   "metadata": {},
   "outputs": [],
   "source": []
  },
  {
   "cell_type": "code",
   "execution_count": 8,
   "id": "brilliant-samoa",
   "metadata": {},
   "outputs": [],
   "source": [
    "df_mcc_codes = pd.read_csv('data/mcc_codes.csv')\n",
    "df_currency_rk = pd.read_csv('data/currency_rk.csv')\n",
    "df_click_categories = pd.read_csv('data/click_categories.csv')"
   ]
  },
  {
   "cell_type": "code",
   "execution_count": 16,
   "id": "increased-albert",
   "metadata": {},
   "outputs": [
    {
     "data": {
      "text/html": [
       "<div>\n",
       "<style scoped>\n",
       "    .dataframe tbody tr th:only-of-type {\n",
       "        vertical-align: middle;\n",
       "    }\n",
       "\n",
       "    .dataframe tbody tr th {\n",
       "        vertical-align: top;\n",
       "    }\n",
       "\n",
       "    .dataframe thead th {\n",
       "        text-align: right;\n",
       "    }\n",
       "</style>\n",
       "<table border=\"1\" class=\"dataframe\">\n",
       "  <thead>\n",
       "    <tr style=\"text-align: right;\">\n",
       "      <th></th>\n",
       "      <th>MCC</th>\n",
       "      <th>Название</th>\n",
       "      <th>Описание</th>\n",
       "    </tr>\n",
       "  </thead>\n",
       "  <tbody>\n",
       "    <tr>\n",
       "      <th>0</th>\n",
       "      <td>742</td>\n",
       "      <td>Ветеринарные услуги</td>\n",
       "      <td>Лицензированные специалисты в основном занимаю...</td>\n",
       "    </tr>\n",
       "    <tr>\n",
       "      <th>1</th>\n",
       "      <td>763</td>\n",
       "      <td>Сельскохозяйственные кооперативы</td>\n",
       "      <td>Ассоциации и кооперативы, которые предоставляю...</td>\n",
       "    </tr>\n",
       "    <tr>\n",
       "      <th>2</th>\n",
       "      <td>780</td>\n",
       "      <td>Услуги садоводства и ландшафтного дизайна</td>\n",
       "      <td>Ландшафтные архитекторы и другие поставщики ус...</td>\n",
       "    </tr>\n",
       "    <tr>\n",
       "      <th>3</th>\n",
       "      <td>1520</td>\n",
       "      <td>Генеральные подрядчики – жилое и коммерческое ...</td>\n",
       "      <td>Генеральные подрядчики, в основном занимающиес...</td>\n",
       "    </tr>\n",
       "    <tr>\n",
       "      <th>4</th>\n",
       "      <td>1711</td>\n",
       "      <td>Генеральные подрядчики по вентиляции, теплосна...</td>\n",
       "      <td>Специальные торговые подрядчики, которые работ...</td>\n",
       "    </tr>\n",
       "  </tbody>\n",
       "</table>\n",
       "</div>"
      ],
      "text/plain": [
       "    MCC                                           Название  \\\n",
       "0   742                                Ветеринарные услуги   \n",
       "1   763                   Сельскохозяйственные кооперативы   \n",
       "2   780          Услуги садоводства и ландшафтного дизайна   \n",
       "3  1520  Генеральные подрядчики – жилое и коммерческое ...   \n",
       "4  1711  Генеральные подрядчики по вентиляции, теплосна...   \n",
       "\n",
       "                                            Описание  \n",
       "0  Лицензированные специалисты в основном занимаю...  \n",
       "1  Ассоциации и кооперативы, которые предоставляю...  \n",
       "2  Ландшафтные архитекторы и другие поставщики ус...  \n",
       "3  Генеральные подрядчики, в основном занимающиес...  \n",
       "4  Специальные торговые подрядчики, которые работ...  "
      ]
     },
     "metadata": {},
     "output_type": "display_data"
    },
    {
     "data": {
      "text/html": [
       "<div>\n",
       "<style scoped>\n",
       "    .dataframe tbody tr th:only-of-type {\n",
       "        vertical-align: middle;\n",
       "    }\n",
       "\n",
       "    .dataframe tbody tr th {\n",
       "        vertical-align: top;\n",
       "    }\n",
       "\n",
       "    .dataframe thead th {\n",
       "        text-align: right;\n",
       "    }\n",
       "</style>\n",
       "<table border=\"1\" class=\"dataframe\">\n",
       "  <thead>\n",
       "    <tr style=\"text-align: right;\">\n",
       "      <th></th>\n",
       "      <th>currency_rk</th>\n",
       "      <th>Name</th>\n",
       "    </tr>\n",
       "  </thead>\n",
       "  <tbody>\n",
       "    <tr>\n",
       "      <th>0</th>\n",
       "      <td>48</td>\n",
       "      <td>RUR</td>\n",
       "    </tr>\n",
       "    <tr>\n",
       "      <th>1</th>\n",
       "      <td>50</td>\n",
       "      <td>USD</td>\n",
       "    </tr>\n",
       "    <tr>\n",
       "      <th>2</th>\n",
       "      <td>60</td>\n",
       "      <td>EUR</td>\n",
       "    </tr>\n",
       "  </tbody>\n",
       "</table>\n",
       "</div>"
      ],
      "text/plain": [
       "   currency_rk Name\n",
       "0           48  RUR\n",
       "1           50  USD\n",
       "2           60  EUR"
      ]
     },
     "metadata": {},
     "output_type": "display_data"
    },
    {
     "data": {
      "text/html": [
       "<div>\n",
       "<style scoped>\n",
       "    .dataframe tbody tr th:only-of-type {\n",
       "        vertical-align: middle;\n",
       "    }\n",
       "\n",
       "    .dataframe tbody tr th {\n",
       "        vertical-align: top;\n",
       "    }\n",
       "\n",
       "    .dataframe thead th {\n",
       "        text-align: right;\n",
       "    }\n",
       "</style>\n",
       "<table border=\"1\" class=\"dataframe\">\n",
       "  <thead>\n",
       "    <tr style=\"text-align: right;\">\n",
       "      <th></th>\n",
       "      <th>cat_id</th>\n",
       "      <th>level_0</th>\n",
       "      <th>level_1</th>\n",
       "      <th>level_2</th>\n",
       "    </tr>\n",
       "  </thead>\n",
       "  <tbody>\n",
       "    <tr>\n",
       "      <th>0</th>\n",
       "      <td>1</td>\n",
       "      <td>accessories</td>\n",
       "      <td>NaN</td>\n",
       "      <td>NaN</td>\n",
       "    </tr>\n",
       "    <tr>\n",
       "      <th>1</th>\n",
       "      <td>2</td>\n",
       "      <td>accessories</td>\n",
       "      <td>handbags</td>\n",
       "      <td>NaN</td>\n",
       "    </tr>\n",
       "    <tr>\n",
       "      <th>2</th>\n",
       "      <td>3</td>\n",
       "      <td>accessories</td>\n",
       "      <td>jewellery</td>\n",
       "      <td>NaN</td>\n",
       "    </tr>\n",
       "    <tr>\n",
       "      <th>3</th>\n",
       "      <td>8</td>\n",
       "      <td>accessories</td>\n",
       "      <td>watches</td>\n",
       "      <td>NaN</td>\n",
       "    </tr>\n",
       "    <tr>\n",
       "      <th>4</th>\n",
       "      <td>11</td>\n",
       "      <td>age</td>\n",
       "      <td>age_0-5_yo</td>\n",
       "      <td>NaN</td>\n",
       "    </tr>\n",
       "  </tbody>\n",
       "</table>\n",
       "</div>"
      ],
      "text/plain": [
       "   cat_id      level_0     level_1 level_2\n",
       "0       1  accessories         NaN     NaN\n",
       "1       2  accessories    handbags     NaN\n",
       "2       3  accessories   jewellery     NaN\n",
       "3       8  accessories     watches     NaN\n",
       "4      11          age  age_0-5_yo     NaN"
      ]
     },
     "metadata": {},
     "output_type": "display_data"
    }
   ],
   "source": [
    "for df in [df_mcc_codes, df_currency_rk, df_click_categories]:\n",
    "    display(df.head())"
   ]
  },
  {
   "cell_type": "code",
   "execution_count": null,
   "id": "instructional-cornwall",
   "metadata": {},
   "outputs": [],
   "source": []
  },
  {
   "cell_type": "code",
   "execution_count": 18,
   "id": "copyrighted-easter",
   "metadata": {},
   "outputs": [
    {
     "name": "stdout",
     "output_type": "stream",
     "text": [
      "(17581, 2)\n"
     ]
    },
    {
     "data": {
      "text/html": [
       "<div>\n",
       "<style scoped>\n",
       "    .dataframe tbody tr th:only-of-type {\n",
       "        vertical-align: middle;\n",
       "    }\n",
       "\n",
       "    .dataframe tbody tr th {\n",
       "        vertical-align: top;\n",
       "    }\n",
       "\n",
       "    .dataframe thead th {\n",
       "        text-align: right;\n",
       "    }\n",
       "</style>\n",
       "<table border=\"1\" class=\"dataframe\">\n",
       "  <thead>\n",
       "    <tr style=\"text-align: right;\">\n",
       "      <th></th>\n",
       "      <th>bank</th>\n",
       "      <th>rtk</th>\n",
       "    </tr>\n",
       "  </thead>\n",
       "  <tbody>\n",
       "    <tr>\n",
       "      <th>0</th>\n",
       "      <td>178b387813ac4a63a2200274a9e3876e</td>\n",
       "      <td>e19c0f141e9442c5bdb0d5751f6fba1c</td>\n",
       "    </tr>\n",
       "    <tr>\n",
       "      <th>1</th>\n",
       "      <td>47cffa46e6b04389ba91a70735d2c3ff</td>\n",
       "      <td>7df3371aabd349e4ac2de8299238627d</td>\n",
       "    </tr>\n",
       "    <tr>\n",
       "      <th>2</th>\n",
       "      <td>f73b767cfd72472aa06df9a69e746aaf</td>\n",
       "      <td>b23d62c7e41145a7ad140a4fcfaafefa</td>\n",
       "    </tr>\n",
       "    <tr>\n",
       "      <th>3</th>\n",
       "      <td>48da649603734185b98dcea93484dbc7</td>\n",
       "      <td>63ad789541c54463ad54d0a707b3ab8b</td>\n",
       "    </tr>\n",
       "    <tr>\n",
       "      <th>4</th>\n",
       "      <td>37304ef19de542ee8fe8a6f050236525</td>\n",
       "      <td>c0e96de5dd594d948a8b9fde9e6980cb</td>\n",
       "    </tr>\n",
       "  </tbody>\n",
       "</table>\n",
       "</div>"
      ],
      "text/plain": [
       "                               bank                               rtk\n",
       "0  178b387813ac4a63a2200274a9e3876e  e19c0f141e9442c5bdb0d5751f6fba1c\n",
       "1  47cffa46e6b04389ba91a70735d2c3ff  7df3371aabd349e4ac2de8299238627d\n",
       "2  f73b767cfd72472aa06df9a69e746aaf  b23d62c7e41145a7ad140a4fcfaafefa\n",
       "3  48da649603734185b98dcea93484dbc7  63ad789541c54463ad54d0a707b3ab8b\n",
       "4  37304ef19de542ee8fe8a6f050236525  c0e96de5dd594d948a8b9fde9e6980cb"
      ]
     },
     "execution_count": 18,
     "metadata": {},
     "output_type": "execute_result"
    }
   ],
   "source": [
    "df_train_matching = pd.read_csv('data/train_matching.csv')\n",
    "print(df_train_matching.shape)\n",
    "df_train_matching.head()"
   ]
  },
  {
   "cell_type": "code",
   "execution_count": 47,
   "id": "straight-stanford",
   "metadata": {},
   "outputs": [
    {
     "data": {
      "text/plain": [
       "178b387813ac4a63a2200274a9e3876e    1\n",
       "eb990ba50bec4011a0ecc37d16b3f4b6    1\n",
       "6e5ce082544c4dfdab46d5a996343a4e    1\n",
       "f32ee85d394b4e6c8938ffeae7047940    1\n",
       "23abef387c89432dbe7ac4625b192e69    1\n",
       "                                   ..\n",
       "16ce6db73a254c788a07f493329e78e4    1\n",
       "b29b5dd69c454914a3f22a4a9b799586    1\n",
       "fc4ab245eab74f7997274511f5f2e22b    1\n",
       "96ed0e5462174c528624548ab3b6a956    1\n",
       "54310a61cfb64c4aaa0003ecdb727bf8    1\n",
       "Name: bank, Length: 17581, dtype: int64"
      ]
     },
     "execution_count": 47,
     "metadata": {},
     "output_type": "execute_result"
    }
   ],
   "source": [
    "df_train_matching[\"bank\"].value_counts()"
   ]
  },
  {
   "cell_type": "code",
   "execution_count": 46,
   "id": "architectural-caution",
   "metadata": {},
   "outputs": [
    {
     "data": {
      "text/plain": [
       "0                                   2910\n",
       "b49d5755f67f47029506ed91ac9cc24e       1\n",
       "23819611a54445ba9589bcd1fcbf4321       1\n",
       "d6c19721484e43bcba2786633e1fd5fc       1\n",
       "2e057a5a75b14819bbe69bbd6c3c85b4       1\n",
       "                                    ... \n",
       "8e652c55a2934186bc41ed78cdb1662f       1\n",
       "f4f17cad6aab4a8e92ef3a52f6d484e5       1\n",
       "20560ffe8cf34ac196b69a12348ccc05       1\n",
       "cb2e58e78eb94767aed76ab1b4b0499e       1\n",
       "18848472d2754dfc8c2ee9016370d6a1       1\n",
       "Name: rtk, Length: 14672, dtype: int64"
      ]
     },
     "execution_count": 46,
     "metadata": {},
     "output_type": "execute_result"
    }
   ],
   "source": [
    "df_train_matching[\"rtk\"].value_counts()"
   ]
  },
  {
   "cell_type": "code",
   "execution_count": null,
   "id": "limited-uganda",
   "metadata": {},
   "outputs": [],
   "source": []
  },
  {
   "cell_type": "code",
   "execution_count": 19,
   "id": "divine-chicago",
   "metadata": {},
   "outputs": [
    {
     "data": {
      "text/plain": [
       "5.540941967559347"
      ]
     },
     "execution_count": 19,
     "metadata": {},
     "output_type": "execute_result"
    }
   ],
   "source": [
    "1 / 0.180474729"
   ]
  },
  {
   "cell_type": "code",
   "execution_count": 20,
   "id": "returning-franklin",
   "metadata": {},
   "outputs": [
    {
     "data": {
      "text/plain": [
       "0.23797538104108074"
      ]
     },
     "execution_count": 20,
     "metadata": {},
     "output_type": "execute_result"
    }
   ],
   "source": [
    "2 * 0.3492487479 * 0.180474729 / (0.3492487479 + 0.180474729)"
   ]
  },
  {
   "cell_type": "code",
   "execution_count": null,
   "id": "missing-michigan",
   "metadata": {},
   "outputs": [],
   "source": []
  },
  {
   "cell_type": "markdown",
   "id": "alternate-economics",
   "metadata": {},
   "source": [
    "# transactions"
   ]
  },
  {
   "cell_type": "code",
   "execution_count": 29,
   "id": "blind-bathroom",
   "metadata": {},
   "outputs": [],
   "source": [
    "with ZipFile('data/transactions.zip') as z:\n",
    "    df_transactions = pd.read_csv(z.open('transactions.csv'))"
   ]
  },
  {
   "cell_type": "code",
   "execution_count": 33,
   "id": "numeric-bread",
   "metadata": {},
   "outputs": [
    {
     "name": "stdout",
     "output_type": "stream",
     "text": [
      "(19821910, 5)\n"
     ]
    },
    {
     "data": {
      "text/html": [
       "<div>\n",
       "<style scoped>\n",
       "    .dataframe tbody tr th:only-of-type {\n",
       "        vertical-align: middle;\n",
       "    }\n",
       "\n",
       "    .dataframe tbody tr th {\n",
       "        vertical-align: top;\n",
       "    }\n",
       "\n",
       "    .dataframe thead th {\n",
       "        text-align: right;\n",
       "    }\n",
       "</style>\n",
       "<table border=\"1\" class=\"dataframe\">\n",
       "  <thead>\n",
       "    <tr style=\"text-align: right;\">\n",
       "      <th></th>\n",
       "      <th>user_id</th>\n",
       "      <th>mcc_code</th>\n",
       "      <th>currency_rk</th>\n",
       "      <th>transaction_amt</th>\n",
       "      <th>transaction_dttm</th>\n",
       "    </tr>\n",
       "  </thead>\n",
       "  <tbody>\n",
       "    <tr>\n",
       "      <th>0</th>\n",
       "      <td>000932580e404dafbecd5916d4640938</td>\n",
       "      <td>5411</td>\n",
       "      <td>48</td>\n",
       "      <td>-361.07230</td>\n",
       "      <td>2020-08-03 08:05:23</td>\n",
       "    </tr>\n",
       "    <tr>\n",
       "      <th>1</th>\n",
       "      <td>000932580e404dafbecd5916d4640938</td>\n",
       "      <td>5499</td>\n",
       "      <td>48</td>\n",
       "      <td>-137.31398</td>\n",
       "      <td>2020-08-05 01:27:40</td>\n",
       "    </tr>\n",
       "    <tr>\n",
       "      <th>2</th>\n",
       "      <td>000932580e404dafbecd5916d4640938</td>\n",
       "      <td>5499</td>\n",
       "      <td>48</td>\n",
       "      <td>-138.84981</td>\n",
       "      <td>2020-08-05 03:28:11</td>\n",
       "    </tr>\n",
       "    <tr>\n",
       "      <th>3</th>\n",
       "      <td>000932580e404dafbecd5916d4640938</td>\n",
       "      <td>4829</td>\n",
       "      <td>48</td>\n",
       "      <td>-309.47653</td>\n",
       "      <td>2020-08-06 00:36:29</td>\n",
       "    </tr>\n",
       "    <tr>\n",
       "      <th>4</th>\n",
       "      <td>000932580e404dafbecd5916d4640938</td>\n",
       "      <td>5411</td>\n",
       "      <td>48</td>\n",
       "      <td>-133.47370</td>\n",
       "      <td>2020-08-09 00:30:13</td>\n",
       "    </tr>\n",
       "  </tbody>\n",
       "</table>\n",
       "</div>"
      ],
      "text/plain": [
       "                            user_id  mcc_code  currency_rk  transaction_amt  \\\n",
       "0  000932580e404dafbecd5916d4640938      5411           48       -361.07230   \n",
       "1  000932580e404dafbecd5916d4640938      5499           48       -137.31398   \n",
       "2  000932580e404dafbecd5916d4640938      5499           48       -138.84981   \n",
       "3  000932580e404dafbecd5916d4640938      4829           48       -309.47653   \n",
       "4  000932580e404dafbecd5916d4640938      5411           48       -133.47370   \n",
       "\n",
       "      transaction_dttm  \n",
       "0  2020-08-03 08:05:23  \n",
       "1  2020-08-05 01:27:40  \n",
       "2  2020-08-05 03:28:11  \n",
       "3  2020-08-06 00:36:29  \n",
       "4  2020-08-09 00:30:13  "
      ]
     },
     "execution_count": 33,
     "metadata": {},
     "output_type": "execute_result"
    }
   ],
   "source": [
    "print(df_transactions.shape)\n",
    "df_transactions.head()"
   ]
  },
  {
   "cell_type": "code",
   "execution_count": 63,
   "id": "moral-offering",
   "metadata": {},
   "outputs": [
    {
     "name": "stdout",
     "output_type": "stream",
     "text": [
      "22533 unique ids, 17581 from matching\n"
     ]
    },
    {
     "data": {
      "image/png": "[encoded data removed]",
      "text/plain": [
       "<Figure size 864x288 with 1 Axes>"
      ]
     },
     "metadata": {
      "needs_background": "light"
     },
     "output_type": "display_data"
    },
    {
     "name": "stdout",
     "output_type": "stream",
     "text": [
      "min count: 501, max count: 2972\n"
     ]
    }
   ],
   "source": [
    "df = df_transactions['user_id'].value_counts()\n",
    "print(f'{len(df)} unique ids, {len(df.index.intersection(df_train_matching[\"bank\"]))} from matching')\n",
    "plt.figure(figsize=(12, 4))\n",
    "plt.hist(df.values, bins=50)\n",
    "plt.show()\n",
    "\n",
    "print(f'min count: {df.min()}, max count: {df.max()}')"
   ]
  },
  {
   "cell_type": "code",
   "execution_count": 118,
   "id": "persistent-hanging",
   "metadata": {},
   "outputs": [
    {
     "name": "stdout",
     "output_type": "stream",
     "text": [
      "(19821910, 386)\n"
     ]
    },
    {
     "data": {
      "image/png": "[encoded data removed]",
      "text/plain": [
       "<Figure size 864x288 with 1 Axes>"
      ]
     },
     "metadata": {
      "needs_background": "light"
     },
     "output_type": "display_data"
    }
   ],
   "source": [
    "n_samples = 50\n",
    "ohe_mcc = OneHotEncoder().fit_transform(df_transactions[['mcc_code']])\n",
    "\n",
    "print(ohe_mcc.shape)\n",
    "sample_1 = df_transactions.assign(row_id=np.arange(len(df_transactions))) \\\n",
    "    .groupby('user_id')['row_id'].apply(\n",
    "    lambda x: ohe_mcc[np.random.choice(x, n_samples, replace=False)].sum(axis=0).A[0])\n",
    "sample_2 = df_transactions.assign(row_id=np.arange(len(df_transactions))) \\\n",
    "    .groupby('user_id')['row_id'].apply(\n",
    "    lambda x: ohe_mcc[np.random.choice(x, n_samples, replace=False)].sum(axis=0).A[0]).reindex(sample_1.index)\n",
    "\n",
    "a1 = np.stack(sample_1.values)\n",
    "a1 = a1 ** 2\n",
    "a1 = (a1 / a1.sum(axis=1, keepdims=True)) ** 0.5\n",
    "a2 = np.stack(sample_2.values)\n",
    "a2 = a2 ** 2\n",
    "a2 = (a2 / a2.sum(axis=1, keepdims=True)) ** 0.5\n",
    "\n",
    "plt.figure(figsize=(12, 4))\n",
    "plt.hist((a1 * a2).sum(axis=1), range=(0, 1), bins=50, alpha=0.5, label='cos(x_i1, x_i2)')\n",
    "plt.hist((a1 * np.random.permutation(a2)).sum(axis=1), range=(0, 1), bins=50, alpha=0.5, label='cos(x_i1, x_j2)')\n",
    "plt.legend()\n",
    "plt.show()"
   ]
  },
  {
   "cell_type": "code",
   "execution_count": 120,
   "id": "destroyed-cocktail",
   "metadata": {},
   "outputs": [
    {
     "data": {
      "text/plain": [
       "5411    5665649\n",
       "5499    1740868\n",
       "5814    1579958\n",
       "5921     839260\n",
       "6011     689507\n",
       "         ...   \n",
       "3771          1\n",
       "3196          1\n",
       "3056          1\n",
       "3020          1\n",
       "3405          1\n",
       "Name: mcc_code, Length: 386, dtype: int64"
      ]
     },
     "execution_count": 120,
     "metadata": {},
     "output_type": "execute_result"
    }
   ],
   "source": [
    "df_transactions['mcc_code'].value_counts()"
   ]
  },
  {
   "cell_type": "code",
   "execution_count": 119,
   "id": "welsh-executive",
   "metadata": {},
   "outputs": [
    {
     "data": {
      "text/plain": [
       " 48    19765158\n",
       "-1        27405\n",
       " 50       20364\n",
       " 60        8983\n",
       "Name: currency_rk, dtype: int64"
      ]
     },
     "execution_count": 119,
     "metadata": {},
     "output_type": "execute_result"
    }
   ],
   "source": [
    "df_transactions['currency_rk'].value_counts()"
   ]
  },
  {
   "cell_type": "code",
   "execution_count": 122,
   "id": "presidential-aging",
   "metadata": {},
   "outputs": [
    {
     "data": {
      "image/png": "[encoded data removed]",
      "text/plain": [
       "<Figure size 864x288 with 1 Axes>"
      ]
     },
     "metadata": {
      "needs_background": "light"
     },
     "output_type": "display_data"
    }
   ],
   "source": [
    "df_transactions['transaction_amt'].clip(-10000, 10000).hist(bins=50, figsize=(12, 4))\n",
    "plt.show()"
   ]
  },
  {
   "cell_type": "code",
   "execution_count": null,
   "id": "allied-architect",
   "metadata": {},
   "outputs": [],
   "source": []
  },
  {
   "cell_type": "markdown",
   "id": "fantastic-tourism",
   "metadata": {},
   "source": [
    "# clickstream"
   ]
  },
  {
   "cell_type": "code",
   "execution_count": 30,
   "id": "embedded-flavor",
   "metadata": {},
   "outputs": [],
   "source": [
    "with ZipFile('data/clickstream.zip') as z:\n",
    "    df_clickstream = pd.read_csv(z.open('clickstream.csv'))"
   ]
  },
  {
   "cell_type": "code",
   "execution_count": 34,
   "id": "blocked-stage",
   "metadata": {},
   "outputs": [
    {
     "name": "stdout",
     "output_type": "stream",
     "text": [
      "(126752515, 4)\n"
     ]
    },
    {
     "data": {
      "text/html": [
       "<div>\n",
       "<style scoped>\n",
       "    .dataframe tbody tr th:only-of-type {\n",
       "        vertical-align: middle;\n",
       "    }\n",
       "\n",
       "    .dataframe tbody tr th {\n",
       "        vertical-align: top;\n",
       "    }\n",
       "\n",
       "    .dataframe thead th {\n",
       "        text-align: right;\n",
       "    }\n",
       "</style>\n",
       "<table border=\"1\" class=\"dataframe\">\n",
       "  <thead>\n",
       "    <tr style=\"text-align: right;\">\n",
       "      <th></th>\n",
       "      <th>user_id</th>\n",
       "      <th>cat_id</th>\n",
       "      <th>timestamp</th>\n",
       "      <th>new_uid</th>\n",
       "    </tr>\n",
       "  </thead>\n",
       "  <tbody>\n",
       "    <tr>\n",
       "      <th>0</th>\n",
       "      <td>000143baebad4467a23b98c918ccda19</td>\n",
       "      <td>165</td>\n",
       "      <td>2021-01-30 20:08:12</td>\n",
       "      <td>1873448</td>\n",
       "    </tr>\n",
       "    <tr>\n",
       "      <th>1</th>\n",
       "      <td>000143baebad4467a23b98c918ccda19</td>\n",
       "      <td>165</td>\n",
       "      <td>2021-01-31 20:06:29</td>\n",
       "      <td>1873448</td>\n",
       "    </tr>\n",
       "    <tr>\n",
       "      <th>2</th>\n",
       "      <td>000143baebad4467a23b98c918ccda19</td>\n",
       "      <td>308</td>\n",
       "      <td>2021-01-31 20:12:00</td>\n",
       "      <td>1873448</td>\n",
       "    </tr>\n",
       "    <tr>\n",
       "      <th>3</th>\n",
       "      <td>000143baebad4467a23b98c918ccda19</td>\n",
       "      <td>931</td>\n",
       "      <td>2021-01-31 22:12:00</td>\n",
       "      <td>1873448</td>\n",
       "    </tr>\n",
       "    <tr>\n",
       "      <th>4</th>\n",
       "      <td>000143baebad4467a23b98c918ccda19</td>\n",
       "      <td>931</td>\n",
       "      <td>2021-02-01 16:57:00</td>\n",
       "      <td>1873448</td>\n",
       "    </tr>\n",
       "  </tbody>\n",
       "</table>\n",
       "</div>"
      ],
      "text/plain": [
       "                            user_id  cat_id            timestamp  new_uid\n",
       "0  000143baebad4467a23b98c918ccda19     165  2021-01-30 20:08:12  1873448\n",
       "1  000143baebad4467a23b98c918ccda19     165  2021-01-31 20:06:29  1873448\n",
       "2  000143baebad4467a23b98c918ccda19     308  2021-01-31 20:12:00  1873448\n",
       "3  000143baebad4467a23b98c918ccda19     931  2021-01-31 22:12:00  1873448\n",
       "4  000143baebad4467a23b98c918ccda19     931  2021-02-01 16:57:00  1873448"
      ]
     },
     "execution_count": 34,
     "metadata": {},
     "output_type": "execute_result"
    }
   ],
   "source": [
    "print(df_clickstream.shape)\n",
    "df_clickstream.head()"
   ]
  },
  {
   "cell_type": "code",
   "execution_count": 62,
   "id": "mathematical-wells",
   "metadata": {},
   "outputs": [
    {
     "name": "stdout",
     "output_type": "stream",
     "text": [
      "19623 unique ids, 14671 from matching\n"
     ]
    },
    {
     "data": {
      "image/png": "[encoded data removed]",
      "text/plain": [
       "<Figure size 864x288 with 1 Axes>"
      ]
     },
     "metadata": {
      "needs_background": "light"
     },
     "output_type": "display_data"
    },
    {
     "name": "stdout",
     "output_type": "stream",
     "text": [
      "min count: 96, max count: 1315548\n"
     ]
    }
   ],
   "source": [
    "df = df_clickstream['user_id'].value_counts()\n",
    "print(f'{len(df)} unique ids, {len(df.index.intersection(df_train_matching[\"rtk\"]))} from matching')\n",
    "plt.figure(figsize=(12, 4))\n",
    "plt.hist(df.values.clip(None, 20000), bins=50)\n",
    "plt.show()\n",
    "\n",
    "print(f'min count: {df.min()}, max count: {df.max()}')"
   ]
  },
  {
   "cell_type": "code",
   "execution_count": 117,
   "id": "intermediate-quest",
   "metadata": {},
   "outputs": [
    {
     "name": "stdout",
     "output_type": "stream",
     "text": [
      "(126752515, 402)\n"
     ]
    },
    {
     "data": {
      "image/png": "[encoded data removed]",
      "text/plain": [
       "<Figure size 864x288 with 1 Axes>"
      ]
     },
     "metadata": {
      "needs_background": "light"
     },
     "output_type": "display_data"
    }
   ],
   "source": [
    "n_samples = 50\n",
    "ohe_cat_id = OneHotEncoder().fit_transform(df_clickstream[['cat_id']])\n",
    "\n",
    "print(ohe_cat_id.shape)\n",
    "sample_1 = df_clickstream.assign(row_id=np.arange(len(df_clickstream))) \\\n",
    "    .groupby('user_id')['row_id'].apply(\n",
    "    lambda x: ohe_cat_id[np.random.choice(x, n_samples, replace=True)].sum(axis=0).A[0])\n",
    "sample_2 = df_clickstream.assign(row_id=np.arange(len(df_clickstream))) \\\n",
    "    .groupby('user_id')['row_id'].apply(\n",
    "    lambda x: ohe_cat_id[np.random.choice(x, n_samples, replace=True)].sum(axis=0).A[0]).reindex(sample_1.index)\n",
    "\n",
    "a1 = np.stack(sample_1.values)\n",
    "a1 = a1 ** 2\n",
    "a1 = (a1 / a1.sum(axis=1, keepdims=True)) ** 0.5\n",
    "a2 = np.stack(sample_2.values)\n",
    "a2 = a2 ** 2\n",
    "a2 = (a2 / a2.sum(axis=1, keepdims=True)) ** 0.5\n",
    "\n",
    "plt.figure(figsize=(12, 4))\n",
    "plt.hist((a1 * a2).sum(axis=1), range=(0, 1), bins=50, alpha=0.5, label='cos(x_i1, x_i2)')\n",
    "plt.hist((a1 * np.random.permutation(a2)).sum(axis=1), range=(0, 1), bins=50, alpha=0.5, label='cos(x_i1, x_j2)')\n",
    "plt.legend()\n",
    "plt.show()"
   ]
  },
  {
   "cell_type": "code",
   "execution_count": 133,
   "id": "supposed-feeling",
   "metadata": {},
   "outputs": [
    {
     "data": {
      "text/plain": [
       "165     30315671\n",
       "251     21404688\n",
       "931     20090311\n",
       "503      6916567\n",
       "770      4216976\n",
       "          ...   \n",
       "26             1\n",
       "1711           1\n",
       "370            1\n",
       "149            1\n",
       "260            1\n",
       "Name: cat_id, Length: 402, dtype: int64"
      ]
     },
     "execution_count": 133,
     "metadata": {},
     "output_type": "execute_result"
    }
   ],
   "source": [
    "df_clickstream['cat_id'].value_counts()"
   ]
  },
  {
   "cell_type": "code",
   "execution_count": 136,
   "id": "shared-scheduling",
   "metadata": {},
   "outputs": [
    {
     "data": {
      "text/html": [
       "<div>\n",
       "<style scoped>\n",
       "    .dataframe tbody tr th:only-of-type {\n",
       "        vertical-align: middle;\n",
       "    }\n",
       "\n",
       "    .dataframe tbody tr th {\n",
       "        vertical-align: top;\n",
       "    }\n",
       "\n",
       "    .dataframe thead th {\n",
       "        text-align: right;\n",
       "    }\n",
       "</style>\n",
       "<table border=\"1\" class=\"dataframe\">\n",
       "  <thead>\n",
       "    <tr style=\"text-align: right;\">\n",
       "      <th></th>\n",
       "      <th>level_0</th>\n",
       "      <th>level_1</th>\n",
       "      <th>level_2</th>\n",
       "    </tr>\n",
       "  </thead>\n",
       "  <tbody>\n",
       "    <tr>\n",
       "      <th>165</th>\n",
       "      <td>computers</td>\n",
       "      <td>NaN</td>\n",
       "      <td>NaN</td>\n",
       "    </tr>\n",
       "    <tr>\n",
       "      <th>251</th>\n",
       "      <td>film_lovers</td>\n",
       "      <td>NaN</td>\n",
       "      <td>NaN</td>\n",
       "    </tr>\n",
       "    <tr>\n",
       "      <th>931</th>\n",
       "      <td>tech</td>\n",
       "      <td>NaN</td>\n",
       "      <td>NaN</td>\n",
       "    </tr>\n",
       "    <tr>\n",
       "      <th>503</th>\n",
       "      <td>periodicals_and_themed_portals</td>\n",
       "      <td>NaN</td>\n",
       "      <td>NaN</td>\n",
       "    </tr>\n",
       "    <tr>\n",
       "      <th>770</th>\n",
       "      <td>equipment_brands</td>\n",
       "      <td>NaN</td>\n",
       "      <td>NaN</td>\n",
       "    </tr>\n",
       "    <tr>\n",
       "      <th>...</th>\n",
       "      <td>...</td>\n",
       "      <td>...</td>\n",
       "      <td>...</td>\n",
       "    </tr>\n",
       "    <tr>\n",
       "      <th>26</th>\n",
       "      <td>beauty</td>\n",
       "      <td>beauty_devices</td>\n",
       "      <td>NaN</td>\n",
       "    </tr>\n",
       "    <tr>\n",
       "      <th>1711</th>\n",
       "      <td>health</td>\n",
       "      <td>medical_test</td>\n",
       "      <td>NaN</td>\n",
       "    </tr>\n",
       "    <tr>\n",
       "      <th>370</th>\n",
       "      <td>health</td>\n",
       "      <td>mild_diseases</td>\n",
       "      <td>NaN</td>\n",
       "    </tr>\n",
       "    <tr>\n",
       "      <th>149</th>\n",
       "      <td>celebrations</td>\n",
       "      <td>christmas_and_new_year</td>\n",
       "      <td>NaN</td>\n",
       "    </tr>\n",
       "    <tr>\n",
       "      <th>260</th>\n",
       "      <td>film_lovers</td>\n",
       "      <td>documentaries</td>\n",
       "      <td>NaN</td>\n",
       "    </tr>\n",
       "  </tbody>\n",
       "</table>\n",
       "<p>402 rows × 3 columns</p>\n",
       "</div>"
      ],
      "text/plain": [
       "                             level_0                 level_1 level_2\n",
       "165                        computers                     NaN     NaN\n",
       "251                      film_lovers                     NaN     NaN\n",
       "931                             tech                     NaN     NaN\n",
       "503   periodicals_and_themed_portals                     NaN     NaN\n",
       "770                 equipment_brands                     NaN     NaN\n",
       "...                              ...                     ...     ...\n",
       "26                            beauty          beauty_devices     NaN\n",
       "1711                          health            medical_test     NaN\n",
       "370                           health           mild_diseases     NaN\n",
       "149                     celebrations  christmas_and_new_year     NaN\n",
       "260                      film_lovers           documentaries     NaN\n",
       "\n",
       "[402 rows x 3 columns]"
      ]
     },
     "execution_count": 136,
     "metadata": {},
     "output_type": "execute_result"
    }
   ],
   "source": [
    "df_click_categories.set_index('cat_id').reindex(df_clickstream['cat_id'].value_counts().index)"
   ]
  },
  {
   "cell_type": "code",
   "execution_count": 141,
   "id": "solved-hayes",
   "metadata": {},
   "outputs": [
    {
     "data": {
      "text/plain": [
       "689832     48235\n",
       "1654555    48054\n",
       "1643109    47984\n",
       "1340329    47938\n",
       "1035409    47710\n",
       "           ...  \n",
       "868094        95\n",
       "1279167       95\n",
       "108850        94\n",
       "1742291       94\n",
       "459286        94\n",
       "Name: new_uid, Length: 81285, dtype: int64"
      ]
     },
     "execution_count": 141,
     "metadata": {},
     "output_type": "execute_result"
    }
   ],
   "source": [
    "df_clickstream['new_uid'].value_counts()"
   ]
  },
  {
   "cell_type": "code",
   "execution_count": 144,
   "id": "headed-blair",
   "metadata": {},
   "outputs": [
    {
     "data": {
      "text/plain": [
       "new_uid\n",
       "21         1\n",
       "1251121    1\n",
       "1251119    1\n",
       "1251106    1\n",
       "1251094    1\n",
       "          ..\n",
       "621497     1\n",
       "621487     1\n",
       "621483     1\n",
       "621557     1\n",
       "1873964    1\n",
       "Name: cat_id, Length: 81285, dtype: int64"
      ]
     },
     "execution_count": 144,
     "metadata": {},
     "output_type": "execute_result"
    }
   ],
   "source": [
    "df_clickstream.groupby(['user_id', 'new_uid'])['cat_id'].count().reset_index() \\\n",
    ".groupby('new_uid')['cat_id'].count().sort_values()"
   ]
  },
  {
   "cell_type": "code",
   "execution_count": 145,
   "id": "designing-facial",
   "metadata": {},
   "outputs": [
    {
     "data": {
      "text/plain": [
       "user_id\n",
       "6f52c45187fa453994792e653991b54a      1\n",
       "43f42a8fb6b249ffb83df673ad3798d9      1\n",
       "dc17a3af50da4617a05b3ea1392f1a82      1\n",
       "dc17a0c182ea42d99f231e4b588c87b2      1\n",
       "dc1742f456fe4d4d8edd9ebc3ac49c1e      1\n",
       "                                   ... \n",
       "02ea216bac2e411fb5294c657a0490d4    139\n",
       "62ac54d4fb3647e0b548bff90a8e0659    141\n",
       "70af5fdba7704654bd3e7a836f89f4e7    143\n",
       "174017f7dc7c4268a5a6dd4e7e6e8ff5    225\n",
       "679af3c1732c4495a0c1b1c6884d4213    419\n",
       "Name: cat_id, Length: 19623, dtype: int64"
      ]
     },
     "execution_count": 145,
     "metadata": {},
     "output_type": "execute_result"
    }
   ],
   "source": [
    "df_clickstream.groupby(['user_id', 'new_uid'])['cat_id'].count().reset_index() \\\n",
    ".groupby('user_id')['cat_id'].count().sort_values()"
   ]
  },
  {
   "cell_type": "code",
   "execution_count": null,
   "id": "clean-barcelona",
   "metadata": {},
   "outputs": [],
   "source": []
  },
  {
   "cell_type": "code",
   "execution_count": null,
   "id": "massive-hypothesis",
   "metadata": {},
   "outputs": [],
   "source": []
  },
  {
   "cell_type": "markdown",
   "id": "controversial-glass",
   "metadata": {},
   "source": [
    "# Validation schema\n",
    "\n",
    "17581 bank clients matched with 14671 rtk clients.\n",
    "\n",
    "4952 bank clients without matching, 4952 rtk clients without matching.\n",
    "\n",
    "3K in public test, 3K in private test part.\n",
    "\n",
    "\n",
    "Split train into 6 folds by 2930 clients. One for test, one for validation, 4 for train.\n",
    "11720 - train, 2930 - valid, 2930 - test.\n",
    "\n",
    "With 4952 unmatched train will be 16672\n",
    "\n",
    "19.8M transactions, 126.8M links.\n",
    "Extra:\n",
    " - 6.8M trx from gender (currency mapped to RUR)\n",
    " - 1M trx from rosbank\n",
    " - 443M trx from alphabattle (frequency mapping required)\n",
    " \n",
    " \n",
    "Splits in files, also unmatched data.\n",
    "Modules:\n",
    "- train(files) -> (models by epochs)\n",
    "- inference(file, model) -> submission\n",
    "- estimate(submission) -> score\n",
    "\n",
    "Run: run_id (tensorboad version), fold_id\n",
    "\n",
    "\n",
    "Ideas:\n",
    "- use unmatched data as negative samples\n",
    "- use unmatched data for embedding learning in CoLES framefork\n",
    "- words in mcc names and click categories\n",
    "- use time information\n"
   ]
  },
  {
   "cell_type": "code",
   "execution_count": null,
   "id": "recognized-ordinary",
   "metadata": {},
   "outputs": [],
   "source": []
  },
  {
   "cell_type": "code",
   "execution_count": 146,
   "id": "composed-religion",
   "metadata": {},
   "outputs": [],
   "source": [
    "df = df_clickstream[lambda x: x['user_id'].eq('000143baebad4467a23b98c918ccda19')]"
   ]
  },
  {
   "cell_type": "code",
   "execution_count": 147,
   "id": "conscious-suicide",
   "metadata": {},
   "outputs": [
    {
     "data": {
      "text/html": [
       "<div>\n",
       "<style scoped>\n",
       "    .dataframe tbody tr th:only-of-type {\n",
       "        vertical-align: middle;\n",
       "    }\n",
       "\n",
       "    .dataframe tbody tr th {\n",
       "        vertical-align: top;\n",
       "    }\n",
       "\n",
       "    .dataframe thead th {\n",
       "        text-align: right;\n",
       "    }\n",
       "</style>\n",
       "<table border=\"1\" class=\"dataframe\">\n",
       "  <thead>\n",
       "    <tr style=\"text-align: right;\">\n",
       "      <th></th>\n",
       "      <th>user_id</th>\n",
       "      <th>cat_id</th>\n",
       "      <th>timestamp</th>\n",
       "      <th>new_uid</th>\n",
       "    </tr>\n",
       "  </thead>\n",
       "  <tbody>\n",
       "    <tr>\n",
       "      <th>0</th>\n",
       "      <td>000143baebad4467a23b98c918ccda19</td>\n",
       "      <td>165</td>\n",
       "      <td>2021-01-30 20:08:12</td>\n",
       "      <td>1873448</td>\n",
       "    </tr>\n",
       "    <tr>\n",
       "      <th>1</th>\n",
       "      <td>000143baebad4467a23b98c918ccda19</td>\n",
       "      <td>165</td>\n",
       "      <td>2021-01-31 20:06:29</td>\n",
       "      <td>1873448</td>\n",
       "    </tr>\n",
       "    <tr>\n",
       "      <th>2</th>\n",
       "      <td>000143baebad4467a23b98c918ccda19</td>\n",
       "      <td>308</td>\n",
       "      <td>2021-01-31 20:12:00</td>\n",
       "      <td>1873448</td>\n",
       "    </tr>\n",
       "    <tr>\n",
       "      <th>3</th>\n",
       "      <td>000143baebad4467a23b98c918ccda19</td>\n",
       "      <td>931</td>\n",
       "      <td>2021-01-31 22:12:00</td>\n",
       "      <td>1873448</td>\n",
       "    </tr>\n",
       "    <tr>\n",
       "      <th>4</th>\n",
       "      <td>000143baebad4467a23b98c918ccda19</td>\n",
       "      <td>931</td>\n",
       "      <td>2021-02-01 16:57:00</td>\n",
       "      <td>1873448</td>\n",
       "    </tr>\n",
       "  </tbody>\n",
       "</table>\n",
       "</div>"
      ],
      "text/plain": [
       "                            user_id  cat_id            timestamp  new_uid\n",
       "0  000143baebad4467a23b98c918ccda19     165  2021-01-30 20:08:12  1873448\n",
       "1  000143baebad4467a23b98c918ccda19     165  2021-01-31 20:06:29  1873448\n",
       "2  000143baebad4467a23b98c918ccda19     308  2021-01-31 20:12:00  1873448\n",
       "3  000143baebad4467a23b98c918ccda19     931  2021-01-31 22:12:00  1873448\n",
       "4  000143baebad4467a23b98c918ccda19     931  2021-02-01 16:57:00  1873448"
      ]
     },
     "execution_count": 147,
     "metadata": {},
     "output_type": "execute_result"
    }
   ],
   "source": [
    "df.head()"
   ]
  },
  {
   "cell_type": "code",
   "execution_count": 180,
   "id": "manual-adoption",
   "metadata": {},
   "outputs": [
    {
     "data": {
      "image/png": "[encoded data removed]",
      "text/plain": [
       "<Figure size 1296x432 with 1 Axes>"
      ]
     },
     "metadata": {
      "needs_background": "light"
     },
     "output_type": "display_data"
    }
   ],
   "source": [
    "plt.figure(figsize=(18, 6))\n",
    "plt.eventplot(pd.to_datetime(df['timestamp']).values.reshape(-1, 1),\n",
    "              lineoffsets=df['new_uid'].map({k: i for i, k in enumerate(df['new_uid'].value_counts().index)}).values)\n",
    "plt.show()"
   ]
  },
  {
   "cell_type": "code",
   "execution_count": null,
   "id": "surgical-dakota",
   "metadata": {},
   "outputs": [],
   "source": []
  },
  {
   "cell_type": "code",
   "execution_count": null,
   "id": "controlling-intranet",
   "metadata": {},
   "outputs": [],
   "source": []
  },
  {
   "cell_type": "code",
   "execution_count": null,
   "id": "alive-horizontal",
   "metadata": {},
   "outputs": [],
   "source": []
  },
  {
   "cell_type": "code",
   "execution_count": 17,
   "id": "settled-bankruptcy",
   "metadata": {},
   "outputs": [
    {
     "data": {
      "text/html": [
       "<div>\n",
       "<style scoped>\n",
       "    .dataframe tbody tr th:only-of-type {\n",
       "        vertical-align: middle;\n",
       "    }\n",
       "\n",
       "    .dataframe tbody tr th {\n",
       "        vertical-align: top;\n",
       "    }\n",
       "\n",
       "    .dataframe thead th {\n",
       "        text-align: right;\n",
       "    }\n",
       "</style>\n",
       "<table border=\"1\" class=\"dataframe\">\n",
       "  <thead>\n",
       "    <tr style=\"text-align: right;\">\n",
       "      <th></th>\n",
       "      <th>user_id</th>\n",
       "      <th>cat_id</th>\n",
       "      <th>timestamp</th>\n",
       "      <th>new_uid</th>\n",
       "    </tr>\n",
       "  </thead>\n",
       "  <tbody>\n",
       "    <tr>\n",
       "      <th>0</th>\n",
       "      <td>000eb2d39f4f4df0afd630c4f11ca049</td>\n",
       "      <td>503</td>\n",
       "      <td>2021-01-29 21:16:41</td>\n",
       "      <td>782597</td>\n",
       "    </tr>\n",
       "    <tr>\n",
       "      <th>1</th>\n",
       "      <td>000eb2d39f4f4df0afd630c4f11ca049</td>\n",
       "      <td>251</td>\n",
       "      <td>2021-01-29 22:35:36</td>\n",
       "      <td>782597</td>\n",
       "    </tr>\n",
       "    <tr>\n",
       "      <th>2</th>\n",
       "      <td>000eb2d39f4f4df0afd630c4f11ca049</td>\n",
       "      <td>770</td>\n",
       "      <td>2021-01-31 20:45:00</td>\n",
       "      <td>782597</td>\n",
       "    </tr>\n",
       "    <tr>\n",
       "      <th>3</th>\n",
       "      <td>000eb2d39f4f4df0afd630c4f11ca049</td>\n",
       "      <td>770</td>\n",
       "      <td>2021-02-03 08:48:00</td>\n",
       "      <td>782597</td>\n",
       "    </tr>\n",
       "    <tr>\n",
       "      <th>4</th>\n",
       "      <td>000eb2d39f4f4df0afd630c4f11ca049</td>\n",
       "      <td>770</td>\n",
       "      <td>2021-02-03 09:19:00</td>\n",
       "      <td>782597</td>\n",
       "    </tr>\n",
       "  </tbody>\n",
       "</table>\n",
       "</div>"
      ],
      "text/plain": [
       "                            user_id  cat_id            timestamp  new_uid\n",
       "0  000eb2d39f4f4df0afd630c4f11ca049     503  2021-01-29 21:16:41   782597\n",
       "1  000eb2d39f4f4df0afd630c4f11ca049     251  2021-01-29 22:35:36   782597\n",
       "2  000eb2d39f4f4df0afd630c4f11ca049     770  2021-01-31 20:45:00   782597\n",
       "3  000eb2d39f4f4df0afd630c4f11ca049     770  2021-02-03 08:48:00   782597\n",
       "4  000eb2d39f4f4df0afd630c4f11ca049     770  2021-02-03 09:19:00   782597"
      ]
     },
     "execution_count": 17,
     "metadata": {},
     "output_type": "execute_result"
    }
   ],
   "source": [
    "df_clk = pd.read_csv('data/clickstream_1.csv')\n",
    "df_clk.head()"
   ]
  },
  {
   "cell_type": "code",
   "execution_count": 18,
   "id": "immune-administrator",
   "metadata": {},
   "outputs": [],
   "source": [
    "df_clk = df_clk.set_index('user_id')"
   ]
  },
  {
   "cell_type": "code",
   "execution_count": 20,
   "id": "abandoned-thumbnail",
   "metadata": {},
   "outputs": [
    {
     "data": {
      "text/plain": [
       "user_id\n",
       "518254a453e34975b58bbb0419bcc38b       96\n",
       "674cca2ab925420b9d64cc0c757273ec      234\n",
       "0b3b12cb1b894db18cc72178333a0963      433\n",
       "a476f9df035d427a9bee9eaa0e3c0e05      673\n",
       "207c41de5d65476ab91a24054407f1c9      918\n",
       "fcb77096c57d4ccc908ce325c9e5c2d6     1168\n",
       "795111ce1548403fabb05d887c14abdb     1415\n",
       "a11d63705afc4aeaaae536535b505abd     1662\n",
       "56c0eddd35ad4c66b959819a13a215db     1989\n",
       "afa6389878664fae9af2c95c4e34a130     2269\n",
       "40acb83d2931483daf840ad46bfb2f44     2585\n",
       "6fef50c7ae434a64a255ff452ac3cdf8     2936\n",
       "f5feee7108f64e2abf392733cfed2019     3295\n",
       "904e01da3c0f458faa4d3abfb6b25ff4     3702\n",
       "f849f76d3784420d9fccb8487fb769d7     4117\n",
       "96ee75839e074090842d50e6cf342636     4600\n",
       "fb0af9b00ee44039ab0289c0f3831a81     5358\n",
       "f965a476c56a459d9965d93775a9d910     6016\n",
       "043200e0678f4ecc93fe48bd95230999     6780\n",
       "0bf9489094ab4eef8f039560e83bb8d7     7985\n",
       "aeeba57e5f7f4b88b38151ec257ceb61     9431\n",
       "0d67a62051e14dc3b50d315716cc22a4    11524\n",
       "5184c74219234ad4a8ef623eb53681c4    14769\n",
       "1c73944160d248eba6bbcb186a65eb00    20348\n",
       "02fe726c975b4a4c8565e9d46771020b    36640\n",
       "Name: cat_id, dtype: int64"
      ]
     },
     "execution_count": 20,
     "metadata": {},
     "output_type": "execute_result"
    }
   ],
   "source": [
    "df_clk.groupby('user_id')['cat_id'].count().sort_values().iloc[::100]"
   ]
  },
  {
   "cell_type": "code",
   "execution_count": 29,
   "id": "historical-truth",
   "metadata": {},
   "outputs": [
    {
     "data": {
      "image/png": "[encoded data removed]",
      "text/plain": [
       "<Figure size 1152x432 with 1 Axes>"
      ]
     },
     "metadata": {
      "needs_background": "light"
     },
     "output_type": "display_data"
    }
   ],
   "source": [
    "plt.figure(figsize=(16, 6))\n",
    "df = df_clk.loc['f5feee7108f64e2abf392733cfed2019']['cat_id']\n",
    "plt.scatter(\n",
    "    np.arange(len(df)),\n",
    "    df,\n",
    ")\n",
    "df = df_clk.loc['96ee75839e074090842d50e6cf342636']['cat_id']\n",
    "plt.scatter(\n",
    "    np.arange(len(df)),\n",
    "    df,\n",
    ")\n",
    "plt.show()"
   ]
  },
  {
   "cell_type": "code",
   "execution_count": 32,
   "id": "operational-length",
   "metadata": {},
   "outputs": [
    {
     "data": {
      "image/png": "[encoded data removed]",
      "text/plain": [
       "<Figure size 1152x432 with 1 Axes>"
      ]
     },
     "metadata": {
      "needs_background": "light"
     },
     "output_type": "display_data"
    }
   ],
   "source": [
    "plt.figure(figsize=(16, 6))\n",
    "df = df_clk.loc['f5feee7108f64e2abf392733cfed2019']['cat_id'].sample(100, replace=False)\n",
    "plt.scatter(\n",
    "    np.arange(len(df)),\n",
    "    df,\n",
    ")\n",
    "df = df_clk.loc['f5feee7108f64e2abf392733cfed2019']['cat_id'].sample(100, replace=False)\n",
    "plt.scatter(\n",
    "    np.arange(len(df)),\n",
    "    df,\n",
    ")\n",
    "df = df_clk.loc['96ee75839e074090842d50e6cf342636']['cat_id'].sample(100, replace=False)\n",
    "plt.scatter(\n",
    "    np.arange(len(df)),\n",
    "    df,\n",
    ")\n",
    "plt.show()"
   ]
  },
  {
   "cell_type": "code",
   "execution_count": null,
   "id": "involved-consent",
   "metadata": {},
   "outputs": [],
   "source": []
  },
  {
   "cell_type": "code",
   "execution_count": 45,
   "id": "metallic-number",
   "metadata": {},
   "outputs": [
    {
     "name": "stdout",
     "output_type": "stream",
     "text": [
      "175\n",
      "2407\n"
     ]
    },
    {
     "data": {
      "image/png": "[encoded data removed]",
      "text/plain": [
       "<Figure size 1152x432 with 1 Axes>"
      ]
     },
     "metadata": {
      "needs_background": "light"
     },
     "output_type": "display_data"
    }
   ],
   "source": [
    "plt.figure(figsize=(16, 6))\n",
    "df = df_clk.loc['f5feee7108f64e2abf392733cfed2019']['cat_id']\n",
    "pos = random.randint(0, len(df) - 100)\n",
    "print(pos)\n",
    "plt.scatter(\n",
    "    np.arange(100),\n",
    "    df.iloc[pos:pos + 100],\n",
    ")\n",
    "df = df_clk.loc['f5feee7108f64e2abf392733cfed2019']['cat_id']\n",
    "pos = random.randint(0, len(df) - 100)\n",
    "print(pos)\n",
    "plt.scatter(\n",
    "    np.arange(100),\n",
    "    df.iloc[pos:pos + 100],\n",
    ")\n",
    "# df = df_clk.loc['96ee75839e074090842d50e6cf342636']['cat_id']\n",
    "# pos = random.randint(0, len(df) - 100)\n",
    "# print(pos)\n",
    "# plt.scatter(\n",
    "#     np.arange(100),\n",
    "#     df.iloc[pos:pos + 100],\n",
    "# )\n",
    "plt.show()"
   ]
  },
  {
   "cell_type": "code",
   "execution_count": 47,
   "id": "second-volleyball",
   "metadata": {},
   "outputs": [
    {
     "data": {
      "text/plain": [
       "array([215, 215, 251, ..., 165, 493, 251])"
      ]
     },
     "execution_count": 47,
     "metadata": {},
     "output_type": "execute_result"
    }
   ],
   "source": [
    "df.values"
   ]
  },
  {
   "cell_type": "code",
   "execution_count": 48,
   "id": "middle-court",
   "metadata": {},
   "outputs": [],
   "source": [
    "d = np.diff(df.values, prepend=0)"
   ]
  },
  {
   "cell_type": "code",
   "execution_count": 56,
   "id": "divided-fairy",
   "metadata": {},
   "outputs": [
    {
     "name": "stdout",
     "output_type": "stream",
     "text": [
      "11.8 µs ± 206 ns per loop (mean ± std. dev. of 7 runs, 100,000 loops each)\n"
     ]
    }
   ],
   "source": [
    "%%timeit\n",
    "np.arange(len(df))[d > 0]"
   ]
  },
  {
   "cell_type": "code",
   "execution_count": 57,
   "id": "checked-deviation",
   "metadata": {},
   "outputs": [
    {
     "name": "stdout",
     "output_type": "stream",
     "text": [
      "7.67 µs ± 97.4 ns per loop (mean ± std. dev. of 7 runs, 100,000 loops each)\n"
     ]
    }
   ],
   "source": [
    "%%timeit\n",
    "np.where(d > 0)[0]"
   ]
  },
  {
   "cell_type": "code",
   "execution_count": null,
   "id": "short-liability",
   "metadata": {},
   "outputs": [],
   "source": []
  }
 ],
 "metadata": {
  "kernelspec": {
   "display_name": "vtb",
   "language": "python",
   "name": "vtb"
  },
  "language_info": {
   "codemirror_mode": {
    "name": "ipython",
    "version": 3
   },
   "file_extension": ".py",
   "mimetype": "text/x-python",
   "name": "python",
   "nbconvert_exporter": "python",
   "pygments_lexer": "ipython3",
   "version": "3.8.0"
  }
 },
 "nbformat": 4,
 "nbformat_minor": 5
}
